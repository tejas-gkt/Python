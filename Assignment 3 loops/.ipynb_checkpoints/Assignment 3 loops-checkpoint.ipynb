{
 "cells": [
  {
   "cell_type": "markdown",
   "id": "5f217431",
   "metadata": {},
   "source": [
    "Q. W. A P. which takes one number from 0 to 9 from the user and prints\n",
    "it in the word. And if the word is not from 0 to 9 then\n",
    "it should print that number is outside of the range and program should\n",
    "exit.\n",
    "For exapmple:-\n",
    "input = 1\n",
    "output = one"
   ]
  },
  {
   "cell_type": "code",
   "execution_count": 5,
   "id": "75aacbed",
   "metadata": {},
   "outputs": [
    {
     "name": "stdout",
     "output_type": "stream",
     "text": [
      "Please enter the number:  6\n",
      "six\n"
     ]
    }
   ],
   "source": [
    "num = int(input(\"Please enter the number:  \"))\n",
    "word_num = ('one','two','three','four','five','six','seven','eight','nine')\n",
    "for i in range(1,10):\n",
    "    if i == num:\n",
    "        print(word_num[i-1])\n",
    "        break\n",
    "else:\n",
    "    print(\"Number is outside the range\")"
   ]
  },
  {
   "cell_type": "markdown",
   "id": "a78af6f2",
   "metadata": {},
   "source": [
    "Q. W. A P. to implement calculator but the operation to be done and two\n",
    "numbers will be taken as input from user:-\n",
    "Operation console should show below:-\n",
    "Please select any one operation from below:-\n",
    "* To add enter 1\n",
    "* to subtract enter 2\n",
    "* To multiply enter 3\n",
    "* To divide enter 4\n",
    "* To divide and find quotient enter 5\n",
    "* To divide and find remainder enter 6\n",
    "* To divide and find num1 to the power of num2 enter 7\n",
    "* To Come out of the program enter 8"
   ]
  },
  {
   "cell_type": "code",
   "execution_count": 29,
   "id": "9b75213e",
   "metadata": {},
   "outputs": [
    {
     "name": "stdout",
     "output_type": "stream",
     "text": [
      "* To add enter 1\n",
      "* to subtract enter 2\n",
      "* To multiply enter 3\n",
      "* To divide enter 4\n",
      "* To divide and find quotient enter 5\n",
      "* To divide and find remainder enter 6\n",
      "* To divide and find num1 to the power of num2 enter 7\n",
      "* To Come out of the program enter 8\n",
      "Enter the number corresponding to the operation to be performed:  8\n",
      " Exit out of program\n"
     ]
    }
   ],
   "source": [
    "print(\"\"\"* To add enter 1\n",
    "* to subtract enter 2\n",
    "* To multiply enter 3\n",
    "* To divide enter 4\n",
    "* To divide and find quotient enter 5\n",
    "* To divide and find remainder enter 6\n",
    "* To divide and find num1 to the power of num2 enter 7\n",
    "* To Come out of the program enter 8\"\"\")\n",
    "\n",
    "\n",
    "while(True):\n",
    "    oper = int(input(\"Enter the number corresponding to the operation to be performed:  \"))\n",
    "    if oper==8:\n",
    "        print(f\" Exit out of program\")\n",
    "        break\n",
    "        \n",
    "    inp_1 = int(input(\"Enter the first number:  \"))\n",
    "    inp_2 = int(input(\"Enter the second number:  \"))\n",
    "\n",
    "    if oper==1:\n",
    "        print(f\" Sum is {inp_1 + inp_2}\")\n",
    "    elif oper==2:\n",
    "        print(f\" Difference is {inp_1 - inp_2}\")\n",
    "    elif oper==3:\n",
    "        print(f\" Multiplication result is {inp_1 * inp_2}\")\n",
    "    elif oper==4:          \n",
    "        print(f\" Division result is {inp_1 / inp_2}\")\n",
    "    elif oper==5:\n",
    "        print(f\" Division quotient is {inp_1 // inp_2}\")\n",
    "    elif oper==6:\n",
    "        print(f\" Division remainder is {inp_1 % inp_2}\")\n",
    "    elif oper==7:\n",
    "        print(f\" Power raised is {inp_1 ** inp_2}\")\n",
    "    \n"
   ]
  },
  {
   "cell_type": "markdown",
   "id": "2c577a24",
   "metadata": {},
   "source": [
    "Q. W A P to check whether a year entered by user is an leap year or not ?\n",
    "Check with below input:-\n",
    "leap year:- 2012 , 1968 , 2004 , 1200 , 1600 , 2400\n",
    "Non-lear year:- 1971 , 2006 , 1700 , 1800 , 1900"
   ]
  },
  {
   "cell_type": "code",
   "execution_count": 2,
   "id": "e93881a9",
   "metadata": {},
   "outputs": [
    {
     "name": "stdout",
     "output_type": "stream",
     "text": [
      "Please enterthe year:  1900\n",
      "1900 is not a leap year\n"
     ]
    }
   ],
   "source": [
    "year = int(input(\"Please enterthe year:  \"))\n",
    "if year%4==0  and year%100 !=0 or year%400==0:\n",
    "    print(f\"{year} is a leap year\")\n",
    "else:\n",
    "    print(f\"{year} is not a leap year\")"
   ]
  },
  {
   "cell_type": "markdown",
   "id": "4b92ae61",
   "metadata": {},
   "source": [
    "Q. W A P which takes one number from the user and checks whether it is\n",
    "an even or odd number?, If it even then prints number is\n",
    "even number else prints that number is odd number."
   ]
  },
  {
   "cell_type": "code",
   "execution_count": 24,
   "id": "548e1bca",
   "metadata": {},
   "outputs": [
    {
     "name": "stdout",
     "output_type": "stream",
     "text": [
      "Please enter the number:  9\n",
      "9 is an Odd number\n"
     ]
    }
   ],
   "source": [
    "even_odd = int(input(\"Please enter the number:  \"))\n",
    "if even_odd%2==0:\n",
    "    print(f\"{even_odd} is a Even number\")\n",
    "else:\n",
    "    print(f\"{even_odd} is an Odd number\")"
   ]
  },
  {
   "cell_type": "markdown",
   "id": "6474d0d5",
   "metadata": {},
   "source": [
    "Q. W A P which takes two numbers from the user and prints below output:-\n",
    "1 . num1 is greater than num2 if num1 is greater than num2\n",
    "2 . num1 is smaller than num2 if num1 is smaller than num2\n",
    "3 . num1 is equal to num2 if num1 and num2 are equal\n",
    "Note:- 1 . Do this problem using if - else\n",
    "2 . Do this using ternary operator"
   ]
  },
  {
   "cell_type": "code",
   "execution_count": 4,
   "id": "a544e89c",
   "metadata": {},
   "outputs": [
    {
     "name": "stdout",
     "output_type": "stream",
     "text": [
      "Please enter first number:  12\n",
      "Please enter second number:  2\n",
      " 12 is greater than 2\n"
     ]
    }
   ],
   "source": [
    "num_1 = int(input(\"Please enter first number:  \"))\n",
    "num_2 = int(input(\"Please enter second number:  \"))\n",
    "\n",
    "if num_1 == num_2:\n",
    "    print(f\" {num_1} is equal to {num_2}\")\n",
    "    \n",
    "elif num_1>num_2:\n",
    "    print(f\" {num_1} is greater than {num_2}\")\n",
    "    \n",
    "else:\n",
    "    print(f\" {num_1} is smaller than {num_2}\")"
   ]
  },
  {
   "cell_type": "code",
   "execution_count": 7,
   "id": "b7cabf06",
   "metadata": {},
   "outputs": [
    {
     "name": "stdout",
     "output_type": "stream",
     "text": [
      "Please enter first number:  2\n",
      "Please enter second number:  5\n",
      " 2 is smaller than 5\n"
     ]
    }
   ],
   "source": [
    "num_1 = int(input(\"Please enter first number:  \"))\n",
    "num_2 = int(input(\"Please enter second number:  \"))\n",
    "\n",
    "print(f\" {num_1} is equal to {num_2}\" if(num_1 == num_2) else f\" {num_1} is greater than {num_2}\" if num_1>num_2 else f\" {num_1} is smaller than {num_2}\" )"
   ]
  },
  {
   "cell_type": "markdown",
   "id": "1fb4f0bc",
   "metadata": {},
   "source": [
    "Q. W A P which takes three numbers from the user and prints below\n",
    "output:-\n",
    "1 . num1 is greater than num2 and num3 if num1 is greater than num2\n",
    "and num3\n",
    "2 . num2 is greater than num1 and num3 if num2 is greater than num1\n",
    "and num3\n",
    "3 . num3 is greater than num1 and num2 if num3 is greater than num1\n",
    "and num2\n",
    "Note:- 1 . Do this problem using if - elif - else\n",
    "2 . Do this using ternary operator\n",
    "a = a if a>b else b"
   ]
  },
  {
   "cell_type": "code",
   "execution_count": 10,
   "id": "969f3f86",
   "metadata": {},
   "outputs": [
    {
     "name": "stdout",
     "output_type": "stream",
     "text": [
      "Please enter first number:  2\n",
      "Please enter second number:  3\n",
      "Please enter third number:  3\n",
      " 3 is greater than 2 and 3\n"
     ]
    }
   ],
   "source": [
    "num_1 = int(input(\"Please enter first number:  \"))\n",
    "num_2 = int(input(\"Please enter second number:  \"))\n",
    "num_3 = int(input(\"Please enter third number:  \"))\n",
    "\n",
    "if num_1>= num_2 and num_1>= num_3:\n",
    "    print(f\" {num_1} is greater than {num_2} and {num_3}\")\n",
    "    \n",
    "elif num_2>= num_1 and num_2>= num_3:\n",
    "    print(f\" {num_2} is greater than {num_1} and {num_3}\")\n",
    "    \n",
    "else:\n",
    "     print(f\" {num_3} is greater than {num_1} and {num_2}\")"
   ]
  },
  {
   "cell_type": "code",
   "execution_count": 11,
   "id": "4924e2b1",
   "metadata": {},
   "outputs": [
    {
     "name": "stdout",
     "output_type": "stream",
     "text": [
      "Please enter first number:  2\n",
      "Please enter second number:  6\n",
      "Please enter third number:  8\n",
      " 8 is greater than 2 and 6\n"
     ]
    }
   ],
   "source": [
    "num_1 = int(input(\"Please enter first number:  \"))\n",
    "num_2 = int(input(\"Please enter second number:  \"))\n",
    "num_3 = int(input(\"Please enter third number:  \"))\n",
    "\n",
    "\n",
    "print(f\" {num_1} is greater than {num_2} and {num_3}\" if(num_1>= num_2 and num_1>= num_3) else f\" {num_2} is greater than {num_1} and {num_3}\" if(num_2>= num_1 and num_2>= num_3) else f\" {num_3} is greater than {num_1} and {num_2}\" )"
   ]
  },
  {
   "cell_type": "markdown",
   "id": "4b6c2664",
   "metadata": {},
   "source": [
    "Loops - for loop, while loop"
   ]
  },
  {
   "cell_type": "markdown",
   "id": "55f3609a",
   "metadata": {},
   "source": [
    "Q. Write a Python program to find the length of the my_str using loop:-\n",
    "Input:- 'Write a Python program to find the length of the my_str'\n",
    "Output:- 55"
   ]
  },
  {
   "cell_type": "code",
   "execution_count": 16,
   "id": "3393c53a",
   "metadata": {},
   "outputs": [
    {
     "name": "stdout",
     "output_type": "stream",
     "text": [
      "55\n"
     ]
    }
   ],
   "source": [
    "st =\"Write a Python program to find the length of the my_str\"\n",
    "i=0\n",
    "for element in st:\n",
    "    i=i+1\n",
    "    \n",
    "print(i)\n"
   ]
  },
  {
   "cell_type": "markdown",
   "id": "dce0644d",
   "metadata": {},
   "source": [
    "Q. Write a Python program to find the total number of times letter 'p'\n",
    "is appeared in the below string using loop:-\n",
    "Input:- 'peter piper picked a peck of pickled peppers.\\n'\n",
    "Output:- 9"
   ]
  },
  {
   "cell_type": "code",
   "execution_count": 17,
   "id": "139b7b6f",
   "metadata": {},
   "outputs": [
    {
     "name": "stdout",
     "output_type": "stream",
     "text": [
      "9\n"
     ]
    }
   ],
   "source": [
    "inp = \"peter piper picked a peck of pickled peppers.\\n\"\n",
    "count = 0\n",
    "for i in inp:\n",
    "    if i == 'p':\n",
    "        count+=1\n",
    "print(count)\n",
    "        "
   ]
  },
  {
   "cell_type": "markdown",
   "id": "4ff32fce",
   "metadata": {},
   "source": [
    "Q. Write a Python Program, to print all the indexes of all occurences of\n",
    "letter 'p' appeared in the string using loop:-\n",
    "Input:- 'peter piper picked a peck of pickled peppers.'\n",
    "Output:-\n",
    "0\n",
    "6\n",
    "8\n",
    "12\n",
    "21\n",
    "29\n",
    "37\n",
    "39\n",
    "40"
   ]
  },
  {
   "cell_type": "code",
   "execution_count": 18,
   "id": "e907deff",
   "metadata": {},
   "outputs": [
    {
     "name": "stdout",
     "output_type": "stream",
     "text": [
      "0\n",
      "6\n",
      "8\n",
      "12\n",
      "21\n",
      "29\n",
      "37\n",
      "39\n",
      "40\n"
     ]
    }
   ],
   "source": [
    "inp = \"peter piper picked a peck of pickled peppers.\\n\"\n",
    "for i in range(len(inp)):\n",
    "    if inp[i] == 'p':\n",
    "        print(i)\n"
   ]
  },
  {
   "cell_type": "markdown",
   "id": "048fea34",
   "metadata": {},
   "source": [
    "Q. Write a python program to find below output using loop:-\n",
    "Input:- 'peter piper picked a peck of pickled peppers.'\n",
    "Output:- [ 'peter' , 'piper' , 'picked' , 'a' , 'peck' , 'of' , 'pickled' ,\n",
    "'peppers' ]"
   ]
  },
  {
   "cell_type": "code",
   "execution_count": 8,
   "id": "c90a4657",
   "metadata": {},
   "outputs": [
    {
     "name": "stdout",
     "output_type": "stream",
     "text": [
      "['peter', 'piper', 'picked', 'a', 'peck', 'of', 'pickled', 'peppers.\\n']\n"
     ]
    }
   ],
   "source": [
    "inp = \"peter piper picked a peck of pickled peppers.\\n\"\n",
    "word=''\n",
    "lst =[]\n",
    "\n",
    "for i in inp:\n",
    "    if i!=' ':\n",
    "        word=word+i\n",
    "    else:\n",
    "        lst.append(word)\n",
    "        word=''\n",
    "else:\n",
    "    lst.append(word)\n",
    "    \n",
    "print(lst)"
   ]
  },
  {
   "cell_type": "markdown",
   "id": "f210df6f",
   "metadata": {},
   "source": [
    "Q. Write a python program to find below output using loop:-\n",
    "Input:- 'peter piper picked a peck of pickled peppers.'\n",
    "Output:- 'peppers pickled of peck a picked piper peter'"
   ]
  },
  {
   "cell_type": "code",
   "execution_count": 10,
   "id": "0c990820",
   "metadata": {},
   "outputs": [
    {
     "name": "stdout",
     "output_type": "stream",
     "text": [
      " peppers pickled of peck a picked piper\n"
     ]
    }
   ],
   "source": [
    "inp = \"peter piper picked a peck of pickled peppers\"\n",
    "\n",
    "word=''\n",
    "lst =[]\n",
    "\n",
    "for i in inp:\n",
    "    if i!=' ':\n",
    "        word=word+i\n",
    "    else:\n",
    "        lst.append(word)\n",
    "        word=''\n",
    "else:\n",
    "    lst.append(word)\n",
    "\n",
    "str_1=\"\"\n",
    "for i in range(len(lst)-1,0,-1):\n",
    "    str_1 = str_1 + \" \" + lst[i]\n",
    "    \n",
    "print(str_1)\n",
    "    "
   ]
  },
  {
   "cell_type": "markdown",
   "id": "b383a805",
   "metadata": {},
   "source": [
    "Q. Write a python program to find below output using loop:-\n",
    "Input:- 'peter piper picked a peck of pickled peppers.'\n",
    "Output:- '.sreppep delkcip fo kcep a dekcip repip retep'"
   ]
  },
  {
   "cell_type": "code",
   "execution_count": 12,
   "id": "accc8519",
   "metadata": {},
   "outputs": [
    {
     "name": "stdout",
     "output_type": "stream",
     "text": [
      ".sreppep delkcip fo kcep a dekcip repip retep"
     ]
    }
   ],
   "source": [
    "inp = 'peter piper picked a peck of pickled peppers.'\n",
    "for i in range(len(inp)-1,-1,-1):\n",
    "    print(inp[i],end=\"\")"
   ]
  },
  {
   "cell_type": "markdown",
   "id": "2697190d",
   "metadata": {},
   "source": [
    "Q. Write a python program to find below output using loop:-\n",
    "Input:- 'peter piper picked a peck of pickled peppers.'\n",
    "Output:- 'retep repip dekcip a kcep fo delkcip sreppep'"
   ]
  },
  {
   "cell_type": "code",
   "execution_count": 13,
   "id": "9762c1ea",
   "metadata": {},
   "outputs": [
    {
     "name": "stdout",
     "output_type": "stream",
     "text": [
      "retep repip dekcip a kcep fo delkcip sreppep "
     ]
    }
   ],
   "source": [
    "inp = \"peter piper picked a peck of pickled peppers\"\n",
    "\n",
    "word=''\n",
    "lst =[]\n",
    "\n",
    "for i in inp:\n",
    "    if i!=' ':\n",
    "        word=word+i\n",
    "    else:\n",
    "        lst.append(word)\n",
    "        word=''\n",
    "else:\n",
    "    lst.append(word)\n",
    "    \n",
    "for i in lst:\n",
    "    print(i[::-1],end=\" \")"
   ]
  },
  {
   "cell_type": "markdown",
   "id": "2a99712c",
   "metadata": {},
   "source": [
    "Q. Write a python program to find below output using loop:-\n",
    "Input:- 'peter piper picked a peck of pickled peppers.'\n",
    "Output:- 'Peter Piper Picked A Peck Of Pickled Peppers'"
   ]
  },
  {
   "cell_type": "code",
   "execution_count": 19,
   "id": "12266d05",
   "metadata": {},
   "outputs": [
    {
     "name": "stdout",
     "output_type": "stream",
     "text": [
      "Peter Piper Picked A Peck Of Pickled Peppers\n"
     ]
    }
   ],
   "source": [
    "inp = \"peter piper picked a peck of pickled peppers\"\n",
    "\n",
    "\n",
    "new_inp = inp[0].upper()+inp[1:]\n",
    "\n",
    "\n",
    "for i in range(len(inp)):\n",
    "    if inp[i]==' ':\n",
    "        new_inp = new_inp[:i+1]+ inp[i+1].upper() + inp[i+2:]\n",
    "        \n",
    "print(new_inp)\n",
    "    \n"
   ]
  },
  {
   "cell_type": "markdown",
   "id": "9254c0d3",
   "metadata": {},
   "source": [
    "Q. Write a python program to find below output using loop:-\n",
    "Input:- 'Peter Piper Picked A Peck Of Pickled Peppers.'\n",
    "Output:- 'Peter piper picked a peck of pickled peppers'"
   ]
  },
  {
   "cell_type": "code",
   "execution_count": 2,
   "id": "6f4f06d3",
   "metadata": {},
   "outputs": [
    {
     "name": "stdout",
     "output_type": "stream",
     "text": [
      "piper Pickedpicked a peck of pickled peppers\n"
     ]
    }
   ],
   "source": [
    "inp ='Peter Piper Picked A Peck Of Pickled Peppers'\n",
    "\n",
    "new_inp = ''\n",
    "\n",
    "\n",
    "for i in range(len(inp)):\n",
    "    if inp[i]==' ':\n",
    "        new_inp = new_inp[:i+1]+ inp[i+1].lower() + inp[i+2:]\n",
    "        \n",
    "print(new_inp)"
   ]
  },
  {
   "cell_type": "markdown",
   "id": "8d3b5494",
   "metadata": {},
   "source": [
    "Q. Write a python program to implement index method using loop. If\n",
    "sub_str is found in my_str then it will print the index\n",
    "of first occurrence of first character of matching string in my_str:-\n",
    "\n",
    "Input:- my_str = 'Peter Piper Picked A Peck Of Pickled Peppers.' ,\n",
    "sub_str = 'Pickl'\n",
    "Output:- 29"
   ]
  },
  {
   "cell_type": "code",
   "execution_count": 14,
   "id": "774f0b73",
   "metadata": {},
   "outputs": [
    {
     "name": "stdout",
     "output_type": "stream",
     "text": [
      "29\n"
     ]
    }
   ],
   "source": [
    "inp ='Peter Piper Picked A Peck Of Pickled Peppers'\n",
    "\n",
    "sub_str = 'Pickl'\n",
    "\n",
    "for i in range(len(inp)):\n",
    "    \n",
    "    if i+len(sub_str) <len(inp) and inp[i:i+len(sub_str)]==sub_str:\n",
    "        print(i)\n",
    "        break\n",
    "        \n",
    "else:\n",
    "    print(\"Substring not found\")"
   ]
  },
  {
   "cell_type": "markdown",
   "id": "caeaf602",
   "metadata": {},
   "source": [
    "Q. Write a python program to implement replace method using loop. If\n",
    "sub_str is found in my_str then it will replace the first\n",
    "occurrence of sub_str with new_str else it will will print sub_str not\n",
    "found:-\n",
    "\n",
    "Input:- my_str = 'Peter Piper Picked A Peck Of Pickled Peppers.' ,\n",
    "sub_str = 'Peck' , new_str = 'Pack'\n",
    "Output:- 'Peter Piper Picked A Pack Of Pickled Peppers.'"
   ]
  },
  {
   "cell_type": "code",
   "execution_count": 15,
   "id": "ad73112c",
   "metadata": {},
   "outputs": [
    {
     "name": "stdout",
     "output_type": "stream",
     "text": [
      "Peter Piper Picked A Pack Of Pickled Peppers.\n"
     ]
    }
   ],
   "source": [
    "my_str = 'Peter Piper Picked A Peck Of Pickled Peppers.'\n",
    "sub_str = 'Peck'\n",
    "new_str = 'Pack'\n",
    "\n",
    "for i in range(len(my_str)):\n",
    "    if (i+4) <len(my_str) and my_str[i:i+4]==sub_str:\n",
    "        out = my_str[:i] + new_str + my_str[i+4:]\n",
    "        print(out)\n",
    "        break\n",
    "else:\n",
    "    print(\"sub_str not found\")"
   ]
  },
  {
   "cell_type": "markdown",
   "id": "674cc61e",
   "metadata": {},
   "source": [
    "Q. Write a python program to find below output (implements rjust and\n",
    "ljust) using loop:-\n",
    "Input:- 'Peter Piper Picked A Peck Of Pickled Peppers.' , sub_str =\n",
    "'Peck' ,\n",
    "Output:- '*********************Peck********************'"
   ]
  },
  {
   "cell_type": "code",
   "execution_count": 19,
   "id": "803fbe29",
   "metadata": {},
   "outputs": [
    {
     "name": "stdout",
     "output_type": "stream",
     "text": [
      "*********************Peck********************\n"
     ]
    }
   ],
   "source": [
    "my_str = 'Peter Piper Picked A Peck Of Pickled Peppers.'\n",
    "sub_str = 'Peck'\n",
    "\n",
    "for i in range(len(my_str)):\n",
    "    if (i+4) <len(my_str) and my_str[i:i+4]==sub_str:\n",
    "        out = ('*' *i) + sub_str + ('*' * (len(my_str) - i - 4 ))\n",
    "        print(out)\n",
    "        \n"
   ]
  },
  {
   "cell_type": "markdown",
   "id": "3ead62c4",
   "metadata": {},
   "source": [
    "Q. Write a python program to find below output using loop:-\n",
    "Input:- 'This is Python class' , sep = ' is' ,\n",
    "Output:- [ 'This' , 'is' , 'Python class' ]"
   ]
  },
  {
   "cell_type": "code",
   "execution_count": 23,
   "id": "e50d87b5",
   "metadata": {},
   "outputs": [
    {
     "name": "stdout",
     "output_type": "stream",
     "text": [
      "['This', 'is', 'Pythonclass']\n"
     ]
    }
   ],
   "source": [
    "inp = 'This is Python class'\n",
    "sep = 'is'\n",
    "\n",
    "word=''\n",
    "lst =[]\n",
    "\n",
    "for i in inp:\n",
    "    if i!=' ':\n",
    "        word=word+i\n",
    "    else:\n",
    "        lst.append(word)\n",
    "        word=''\n",
    "else:\n",
    "    lst.append(word)\n",
    "\n",
    "new_lst = []\n",
    "temp_word=''\n",
    "for i in lst:\n",
    "    if i != sep:\n",
    "        temp_word+=i\n",
    "    elif i==sep:\n",
    "        new_lst.append(temp_word)\n",
    "        new_lst.append(sep)\n",
    "        temp_word=''\n",
    "else:\n",
    "    new_lst.append(temp_word)\n",
    "    \n",
    "print(new_lst)"
   ]
  }
 ],
 "metadata": {
  "kernelspec": {
   "display_name": "Python 3 (ipykernel)",
   "language": "python",
   "name": "python3"
  },
  "language_info": {
   "codemirror_mode": {
    "name": "ipython",
    "version": 3
   },
   "file_extension": ".py",
   "mimetype": "text/x-python",
   "name": "python",
   "nbconvert_exporter": "python",
   "pygments_lexer": "ipython3",
   "version": "3.11.5"
  }
 },
 "nbformat": 4,
 "nbformat_minor": 5
}

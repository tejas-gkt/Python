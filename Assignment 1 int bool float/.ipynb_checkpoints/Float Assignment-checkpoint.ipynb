{
 "cells": [
  {
   "cell_type": "markdown",
   "id": "dda7eb5e",
   "metadata": {},
   "source": [
    "Q. Declare a float value and store it in a variable.\n",
    "Check the type and print the id of the same."
   ]
  },
  {
   "cell_type": "code",
   "execution_count": 1,
   "id": "f19612e5",
   "metadata": {},
   "outputs": [
    {
     "name": "stdout",
     "output_type": "stream",
     "text": [
      "<class 'float'>\n",
      "2081871284976\n"
     ]
    }
   ],
   "source": [
    "var_1 = 20.5\n",
    "print(type(var_1))\n",
    "print(id(var_1))"
   ]
  },
  {
   "cell_type": "markdown",
   "id": "298c7054",
   "metadata": {},
   "source": [
    "Q. Arithmetic Operations on float\n",
    "Take two different float values.\n",
    "Store them in two different variables.\n",
    "Do below operations on them:-\n"
   ]
  },
  {
   "cell_type": "code",
   "execution_count": 2,
   "id": "b69376b2",
   "metadata": {},
   "outputs": [
    {
     "name": "stdout",
     "output_type": "stream",
     "text": [
      "The sum of 66.7 and 23.5 is 90.2\n",
      "The difference of 66.7 and 23.5 is 43.2\n",
      "The product of 66.7 and 23.5 is 1567.45\n",
      "The division of 66.7 by 23.5 is 2.8382978723404255\n",
      "The remainder of division of 66.7 by 23.5 is 19.700000000000003\n",
      "The quotient of division of 66.7 by 23.5 is 2.8382978723404255\n",
      "The number 66.7 raised to 23.5 is 7.36134372867314e+42\n"
     ]
    }
   ],
   "source": [
    "var_2 = 66.7\n",
    "var_3 = 23.5\n",
    "\n",
    "# Find sum of both numbers\n",
    "print(f\"The sum of {var_2} and {var_3} is {var_2 + var_3}\")\n",
    "\n",
    "# Find difference between them\n",
    "print(f\"The difference of {var_2} and {var_3} is {var_2 - var_3}\")\n",
    "\n",
    "# Find the product of both numbers.\n",
    "print(f\"The product of {var_2} and {var_3} is {var_2 * var_3}\")\n",
    "\n",
    "# Find value after dividing first num with second number\n",
    "print(f\"The division of {var_2} by {var_3} is {var_2 / var_3}\")\n",
    "\n",
    "# Find the remainder after dividing first number with second number\n",
    "print(f\"The remainder of division of {var_2} by {var_3} is {var_2 % var_3}\")\n",
    "\n",
    "# Find the quotient after dividing first number with second number\n",
    "print(f\"The quotient of division of {var_2} by {var_3} is {var_2 / var_3}\")\n",
    "\n",
    "# Find the result of the first num to the power of the second number.\n",
    "print(f\"The number {var_2} raised to {var_3} is {var_2 ** var_3}\")"
   ]
  },
  {
   "cell_type": "markdown",
   "id": "f27a0883",
   "metadata": {},
   "source": [
    "Q. Comparison Operators on float\n",
    "Take two different float values.\n",
    "Store them in two different variables.\n",
    "Do below operations on them:-\n"
   ]
  },
  {
   "cell_type": "code",
   "execution_count": 3,
   "id": "2b1b138c",
   "metadata": {},
   "outputs": [
    {
     "name": "stdout",
     "output_type": "stream",
     "text": [
      "True\n",
      "False\n",
      "True\n",
      "False\n"
     ]
    }
   ],
   "source": [
    "var_2 = 66.7\n",
    "var_3 = 23.5\n",
    "# Compare these two numbers with below operator:-\n",
    "# Greater than, '>'\n",
    "print(var_2 > var_3)\n",
    "\n",
    "# Smaller than, '<'\n",
    "print(var_2 < var_3)\n",
    "\n",
    "# Greater than or equal to, '>='\n",
    "print(var_2 >= var_3)\n",
    "\n",
    "# Less than or equal to, '<='\n",
    "print(var_2 <= var_3)\n",
    "\n",
    "# Observe their output(return type should be boolean)"
   ]
  },
  {
   "cell_type": "markdown",
   "id": "80670429",
   "metadata": {},
   "source": [
    "Q. Equality Operator\n",
    "Take two different float values.\n",
    "Store them in two different variables.\n",
    "Equate them using equality operators (==, !=)\n",
    "Observe the output(return type should be boolean)"
   ]
  },
  {
   "cell_type": "code",
   "execution_count": 5,
   "id": "1eb8e75a",
   "metadata": {},
   "outputs": [
    {
     "name": "stdout",
     "output_type": "stream",
     "text": [
      "False\n",
      "True\n"
     ]
    }
   ],
   "source": [
    "var_10 = 78.56\n",
    "var_11 = 98.01\n",
    "print(78 == 98 )\n",
    "print(78 != 98 )"
   ]
  },
  {
   "cell_type": "markdown",
   "id": "b0ecb836",
   "metadata": {},
   "source": [
    "Q. Logical operators\n",
    "Observe the output of below code\n",
    "Cross check the output manually"
   ]
  },
  {
   "cell_type": "code",
   "execution_count": 6,
   "id": "f0910a35",
   "metadata": {},
   "outputs": [
    {
     "name": "stdout",
     "output_type": "stream",
     "text": [
      "20.3\n",
      "0.0\n",
      "0.0\n",
      "0.0\n",
      "10.2\n",
      "20.3\n",
      "20.3\n",
      "0.0\n",
      "False\n",
      "True\n"
     ]
    }
   ],
   "source": [
    "print ( 10.20 and 20.30 ) #both are true and second value taken >Output is 20.3\n",
    "\n",
    "print ( 0.0 and 20.30 ) #First is false so first value taken->Output is 0.0\n",
    "\n",
    "print ( 20.30 and 0.0 ) #Goes to till second and second value is false so second is taken>Output is 0.0\n",
    "\n",
    "print ( 0.0 and 0.0 ) #First is false so first value is taken->Output is 0.0\n",
    "\n",
    "print ( 10.20 or 20.30 ) #First is True so first value is taken>Output is 10.2\n",
    "\n",
    "print ( 0.0 or 20.30 ) #Goes to till second and second is true second value is taken->Output is 20.3\n",
    "\n",
    "print ( 20.30 or 0.0 ) #First is True so first value is taken->Output is 20.3\n",
    "\n",
    "print ( 0.0 or 0.0 ) #Goes to till second and second is also false and second value is taken>Output is 0.0\n",
    "\n",
    "print ( not 10.20 ) #-Not of true is false->Output is False\n",
    "\n",
    "print ( not 0.0 ) #Not of false is True>Output is True\n"
   ]
  },
  {
   "cell_type": "code",
   "execution_count": 12,
   "id": "43ebdff0",
   "metadata": {},
   "outputs": [
    {
     "name": "stdout",
     "output_type": "stream",
     "text": [
      "False\n",
      "True\n",
      "True\n",
      "Small integers and certain small floating-point numbers are cached and reused for efficiency.\n",
      "When you assign the value of a to c, you are essentially creating a reference to the same object in memory rather than creating a new object with the same value.\n",
      "In the case of b, a new float object is created separately, so it has a different id.\n"
     ]
    }
   ],
   "source": [
    "# Q. What is the output of expression inside print statement. Cross check\n",
    "# before running the program.\n",
    "a = 10.20\n",
    "b = 10.20\n",
    "print (a is b) #True or False? True 10.20<256\n",
    "print (a is not b) #True or False? False\n",
    "\n",
    "# Why the Id of float values are different when the same value is\n",
    "# assigned to two different variables\n",
    "\n",
    "# ex: a = 10.5 b=10.5. but id will be same if I assign the variable\n",
    "# having float i.e. a=c then both a and c's Id are same\n",
    "\n",
    "a = 10.5 \n",
    "b=10.5\n",
    "c=a\n",
    "\n",
    "print(a is c)\n",
    "\n",
    "\n",
    "print(\"\"\"Small integers and certain small floating-point numbers are cached and reused for efficiency.\n",
    "When you assign the value of a to c, you are essentially creating a reference to the same object in memory rather than creating a new object with the same value.\n",
    "In the case of b, a new float object is created separately, so it has a different id.\"\"\")"
   ]
  },
  {
   "cell_type": "markdown",
   "id": "083ac677",
   "metadata": {},
   "source": [
    "Q. Bitwise operation is not applicable between instances of float.\n",
    "Why the Id of float values are different when the same value is\n",
    "assigned to two different variables\n",
    "ex: a = 10.5 b=10.5. but id will be same if I assign the variable\n",
    "having float i.e. a=c then both a and c's Id are same\n",
    "Object reusability concept is not applicable on float values."
   ]
  },
  {
   "cell_type": "code",
   "execution_count": 14,
   "id": "2e7b5964",
   "metadata": {},
   "outputs": [
    {
     "name": "stdout",
     "output_type": "stream",
     "text": [
      "True\n",
      "True\n",
      "True\n",
      "True\n",
      "True\n",
      "True\n"
     ]
    }
   ],
   "source": [
    "# Q. Membership operation\n",
    "# in, not in are two membership operators and it returns boolean value\n",
    "print ( '2.7' in 'Python2.7.8' ) #True\n",
    "print ( 10.20 in [ 10 , 10.20 , 10 + 20j , 'Python' ]) #True\n",
    "print ( 10.20 in ( 10 , 10.20 , 10 + 20j , 'Python' )) # True\n",
    "print ( 20.30 in { 1 , 20.30 , 30 + 40j }) # True\n",
    "print ( 2.3 in { 1 : 100 , 2.3 : 200 , 30 + 40j : 300 }) # True\n",
    "print ( 10 in range ( 20 )) # True"
   ]
  }
 ],
 "metadata": {
  "kernelspec": {
   "display_name": "Python 3 (ipykernel)",
   "language": "python",
   "name": "python3"
  },
  "language_info": {
   "codemirror_mode": {
    "name": "ipython",
    "version": 3
   },
   "file_extension": ".py",
   "mimetype": "text/x-python",
   "name": "python",
   "nbconvert_exporter": "python",
   "pygments_lexer": "ipython3",
   "version": "3.11.5"
  }
 },
 "nbformat": 4,
 "nbformat_minor": 5
}

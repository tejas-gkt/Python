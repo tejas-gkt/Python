{
 "cells": [
  {
   "cell_type": "markdown",
   "id": "cbedd8ab",
   "metadata": {},
   "source": [
    "Q. Declare an int value and store it in a variable.\n",
    "Check the type and print the id of the same."
   ]
  },
  {
   "cell_type": "code",
   "execution_count": 1,
   "id": "6cc97170",
   "metadata": {},
   "outputs": [
    {
     "name": "stdout",
     "output_type": "stream",
     "text": [
      "<class 'int'>\n",
      "140714572026792\n"
     ]
    }
   ],
   "source": [
    "var_1 = 5\n",
    "print(type(var_1))\n",
    "print(id(var_1))"
   ]
  },
  {
   "cell_type": "markdown",
   "id": "6925acf3",
   "metadata": {},
   "source": [
    "Q. Take one int value between 0 - 256.\n",
    "Assign it to two different variables.\n",
    "Check the id of both the variables. It should come the same. Check why?"
   ]
  },
  {
   "cell_type": "code",
   "execution_count": 2,
   "id": "45cb3feb",
   "metadata": {},
   "outputs": [
    {
     "name": "stdout",
     "output_type": "stream",
     "text": [
      "140714572028392 140714572028392\n"
     ]
    }
   ],
   "source": [
    "var_2 = 55\n",
    "var_3 = 55\n",
    "print(id(var_2),id(var_3))\n",
    "\n",
    "# Because of object reusability"
   ]
  },
  {
   "cell_type": "markdown",
   "id": "993e2a1b",
   "metadata": {},
   "source": [
    "Q. Take one int value either less than -5 or greater than 256.\n",
    "Assign it to two different variables.\n",
    "Check the id of both the variables. It should come different.Check why?"
   ]
  },
  {
   "cell_type": "code",
   "execution_count": 3,
   "id": "847a2bc5",
   "metadata": {},
   "outputs": [
    {
     "name": "stdout",
     "output_type": "stream",
     "text": [
      "1475856944912 1475856952592\n"
     ]
    }
   ],
   "source": [
    "var_4 = -10\n",
    "var_5 = -10\n",
    "print(id(var_4),id(var_5))\n",
    "# different id"
   ]
  },
  {
   "cell_type": "markdown",
   "id": "406da7e4",
   "metadata": {},
   "source": [
    "Q. Arithmetic Operations on integers\n",
    "Take two different integer values.\n",
    "Store them in two different variables.\n",
    "Do below operations on them:-"
   ]
  },
  {
   "cell_type": "code",
   "execution_count": 5,
   "id": "95e352a1",
   "metadata": {},
   "outputs": [
    {
     "name": "stdout",
     "output_type": "stream",
     "text": [
      "The sum of 30 and 20 is 50\n",
      "The difference of 30 and 20 is 10\n",
      "The product of 30 and 20 is 600\n",
      "The division of 30 by 20 is 1.5\n",
      "The remainder of division of 30 by 20 is 10\n",
      "The quotient of division of 30 by 20 is 1.5\n",
      "The number 30 raised to 20 is 348678440100000000000000000000\n"
     ]
    }
   ],
   "source": [
    "var_6 = 30\n",
    "var_7 = 20\n",
    "\n",
    "# Find sum of both numbers\n",
    "print(f\"The sum of {var_6} and {var_7} is {var_6 + var_7}\")\n",
    "\n",
    "# Find difference between them\n",
    "print(f\"The difference of {var_6} and {var_7} is {var_6 - var_7}\")\n",
    "\n",
    "\n",
    "# Find the product of both numbers.\n",
    "print(f\"The product of {var_6} and {var_7} is {var_6 * var_7}\")\n",
    "\n",
    "\n",
    "# Find value after dividing first num with second number\n",
    "print(f\"The division of {var_6} by {var_7} is {var_6 / var_7}\")\n",
    "\n",
    "# Find the remainder after dividing first number with second number\n",
    "print(f\"The remainder of division of {var_6} by {var_7} is {var_6 % var_7}\")\n",
    "\n",
    "# Find the quotient after dividing first number with second number\n",
    "print(f\"The quotient of division of {var_6} by {var_7} is {var_6 / var_7}\")\n",
    "\n",
    "# Find the result of the first num to the power of the second number.\n",
    "print(f\"The number {var_6} raised to {var_7} is {var_6 ** var_7}\")"
   ]
  },
  {
   "cell_type": "markdown",
   "id": "64bd4e8b",
   "metadata": {},
   "source": [
    "Q. Comparison Operators on integers\n",
    "Take two different integer values.\n",
    "Store them in two different variables.\n",
    "Do below operations on them:-\n"
   ]
  },
  {
   "cell_type": "code",
   "execution_count": 6,
   "id": "d3bb6886",
   "metadata": {},
   "outputs": [
    {
     "name": "stdout",
     "output_type": "stream",
     "text": [
      "False\n",
      "True\n",
      "False\n",
      "True\n"
     ]
    }
   ],
   "source": [
    "var_8 = 50\n",
    "var_9 = 60 \n",
    "# Compare se two numbers with below operator:-\n",
    "\n",
    "# Greater than, '>'\n",
    "print(var_8 > var_9)\n",
    "\n",
    "# Smaller than, '<'\n",
    "print(var_8 < var_9)\n",
    "\n",
    "# Greater than or equal to, '>='\n",
    "print(var_8 >= var_9)\n",
    "\n",
    "# Less than or equal to, '<='\n",
    "print(var_8 <= var_9)\n",
    "\n",
    "# Observe their output(return type should be boolean)\n"
   ]
  },
  {
   "cell_type": "markdown",
   "id": "ea40149b",
   "metadata": {},
   "source": [
    "Q. Equality Operator\n",
    "Take two different integer values.\n",
    "Store them in two different variables.\n",
    "Equate them using equality operators (==, !=)\n",
    "Observe the output(return type should be boolean)"
   ]
  },
  {
   "cell_type": "code",
   "execution_count": 7,
   "id": "2eb6301d",
   "metadata": {},
   "outputs": [
    {
     "name": "stdout",
     "output_type": "stream",
     "text": [
      "False\n",
      "True\n"
     ]
    }
   ],
   "source": [
    "var_10 = 78\n",
    "var_11 = 98\n",
    "print(78 == 98 )\n",
    "print(78 != 98 )"
   ]
  },
  {
   "cell_type": "markdown",
   "id": "e1d2da1a",
   "metadata": {},
   "source": [
    "Q. Logical operators\n",
    "Observe the output of below code"
   ]
  },
  {
   "cell_type": "code",
   "execution_count": 9,
   "id": "f5e1b7bf",
   "metadata": {},
   "outputs": [
    {
     "name": "stdout",
     "output_type": "stream",
     "text": [
      "20\n",
      "0\n",
      "0\n",
      "0\n",
      "10\n",
      "20\n",
      "20\n",
      "0\n",
      "False\n",
      "True\n"
     ]
    }
   ],
   "source": [
    "#Cross check the output manually\n",
    "print ( 10 and 20 )\n",
    "#----------------------------------------->Output is 20\n",
    "print ( 0 and 20 )\n",
    "#----------------------------------------->Output is 0\n",
    "print ( 20 and 0 )\n",
    "#----------------------------------------->Output is 0\n",
    "print ( 0 and 0 )\n",
    "#----------------------------------------->Output is 0\n",
    "print ( 10 or 20 )\n",
    "#----------------------------------------->Output is 10\n",
    "print ( 0 or 20 )\n",
    "#----------------------------------------->Output is 20\n",
    "print ( 20 or 0 )\n",
    "#----------------------------------------->Output is 20\n",
    "print ( 0 or 0 )\n",
    "#----------------------------------------->Output is 0\n",
    "print ( not 10 )\n",
    "#----------------------------------------->Output is False\n",
    "print ( not 0 )\n",
    "#----------------------------------------->Output is True"
   ]
  },
  {
   "cell_type": "markdown",
   "id": "8257058c",
   "metadata": {},
   "source": [
    "Q. Bitwise Operators\n",
    "Do below operations on the values provided below:-\n"
   ]
  },
  {
   "cell_type": "code",
   "execution_count": 12,
   "id": "dc209070",
   "metadata": {},
   "outputs": [
    {
     "name": "stdout",
     "output_type": "stream",
     "text": [
      "0\n",
      "30\n",
      "30\n",
      "-11\n",
      "40\n",
      "2\n"
     ]
    }
   ],
   "source": [
    "#Bitwise and(&) -----------------------------------------> 10, 20\n",
    "#-------> Output is 0\n",
    "print(10 & 20)\n",
    "\n",
    "#Bitwise or(|) -----------------------------------------> 10, 20\n",
    "#-------> Output is 30\n",
    "print(10 | 20)\n",
    "\n",
    "#Bitwise(^) -----------------------------------------> 10, 20\n",
    "#-------> Output is 30\n",
    "print(10 ^ 20)\n",
    "\n",
    "#Bitwise negation(~) ------------------------------------> 10\n",
    "#-------> Output is -11\n",
    "print(~10)\n",
    "\n",
    "#Bitwise left shift ------------------------------------> 10,2\n",
    "#-------> Output is 40\n",
    "print(10<<2)\n",
    "\n",
    "#Bitwise right shift ------------------------------------> 10,2\n",
    "#-------> Output is 2\n",
    "print(10>>2)\n",
    "\n",
    "#Cross check the output manually"
   ]
  },
  {
   "cell_type": "markdown",
   "id": "2b1a4827",
   "metadata": {},
   "source": [
    "Q. What is the output of expression inside print statement. Cross check\n",
    "before running the program."
   ]
  },
  {
   "cell_type": "code",
   "execution_count": 15,
   "id": "1da1c653",
   "metadata": {},
   "outputs": [
    {
     "name": "stdout",
     "output_type": "stream",
     "text": [
      "True\n",
      "False\n",
      "Above expression compares memory location by using 'is' operator and '10' is in range of [-5 to 256]\n",
      "False\n",
      "True\n",
      "Above expression compares memory location by using 'is' operator and '1000' is out of range of [-5 to 256]\n"
     ]
    }
   ],
   "source": [
    "a = 10\n",
    "b = 10\n",
    "print(a is b) #True or False?\n",
    "print(a is not b) #True or False?\n",
    "print(\"Above expression compares memory location by using 'is' operator and '10' is in range of [-5 to 256]\")\n",
    "\n",
    "a = 1000\n",
    "b = 1000\n",
    "print(a is b) #True or False?\n",
    "print(a is not b) #True or False?\n",
    "print(\"Above expression compares memory location by using 'is' operator and '1000' is out of range of [-5 to 256]\")"
   ]
  },
  {
   "cell_type": "markdown",
   "id": "61836128",
   "metadata": {},
   "source": [
    "Q. What is the output of expression inside print statement. Cross check\n",
    "before running the program.\n"
   ]
  },
  {
   "cell_type": "code",
   "execution_count": 16,
   "id": "2e27283c",
   "metadata": {},
   "outputs": [
    {
     "name": "stdout",
     "output_type": "stream",
     "text": [
      "20\n"
     ]
    }
   ],
   "source": [
    "print ( 10 +( 10 * 32 )// 2 ** 5 & 20 +(~( -10 ))<< 2 )"
   ]
  },
  {
   "cell_type": "code",
   "execution_count": 21,
   "id": "33221bc1",
   "metadata": {},
   "outputs": [
    {
     "name": "stdout",
     "output_type": "stream",
     "text": [
      "20\n"
     ]
    }
   ],
   "source": [
    "print(20&116)"
   ]
  },
  {
   "cell_type": "markdown",
   "id": "6bf277d3",
   "metadata": {},
   "source": [
    "Q. Membership operation\n",
    "in, not in are two membership operators and it returns boolean value"
   ]
  },
  {
   "cell_type": "code",
   "execution_count": 22,
   "id": "5eba1a48",
   "metadata": {},
   "outputs": [
    {
     "name": "stdout",
     "output_type": "stream",
     "text": [
      "True\n",
      "True\n",
      "True\n",
      "True\n",
      "True\n",
      "True\n"
     ]
    }
   ],
   "source": [
    "print ( '2' in 'Python2.7.8' )\n",
    "print ( 10 in [ 10 , 10.20 , 10 + 20j , 'Python' ])\n",
    "print ( 10 in ( 10 , 10.20 , 10 + 20j , 'Python' ))\n",
    "print ( 2 in { 1 , 2 , 3 })\n",
    "print ( 3 in { 1 : 100 , 2 : 200 , 3 : 300 })\n",
    "print ( 10 in range ( 20 ))"
   ]
  },
  {
   "cell_type": "markdown",
   "id": "76833b65",
   "metadata": {},
   "source": [
    "Q. An integer can be represented in binary, octal or hexadecimal form.\n",
    "Declare one binary, one octal and one hexadecimal value and store them\n",
    "in three different variables.\n",
    "\n"
   ]
  },
  {
   "cell_type": "code",
   "execution_count": 27,
   "id": "4403ee75",
   "metadata": {},
   "outputs": [
    {
     "name": "stdout",
     "output_type": "stream",
     "text": [
      "0b1000\n",
      "0o143\n",
      "0x400\n"
     ]
    }
   ],
   "source": [
    "var_bin =(bin(8))\n",
    "var_oct =(oct(99))\n",
    "var_hex =(hex(1024))\n",
    "\n",
    "print(var_bin)\n",
    "print(var_oct)\n",
    "print(var_hex)"
   ]
  },
  {
   "cell_type": "code",
   "execution_count": 26,
   "id": "e16581a3",
   "metadata": {},
   "outputs": [
    {
     "name": "stdout",
     "output_type": "stream",
     "text": [
      "0b10011010010100\n",
      "0o23224\n",
      "0x2694\n"
     ]
    }
   ],
   "source": [
    "#Convert 9876 to its binary, octal and hexadecimal equivalent and print\n",
    "#their corresponding value.\n",
    "\n",
    "print(bin(9876))\n",
    "print(oct(9876))\n",
    "print(hex(9876))\n",
    "\n"
   ]
  },
  {
   "cell_type": "code",
   "execution_count": 34,
   "id": "9b18de00",
   "metadata": {},
   "outputs": [
    {
     "name": "stdout",
     "output_type": "stream",
     "text": [
      "80\n",
      "3870\n",
      "64222\n",
      "0b1010000\n",
      "0o7436\n",
      "0xfade\n",
      "0b1010000\n",
      "0b1111101011011110\n",
      "0o175336\n",
      "0o7436\n",
      "0x50\n",
      "0xfade\n"
     ]
    }
   ],
   "source": [
    "# Q. What will be the output of following:-\n",
    "a = 0b1010000\n",
    "print (a)\n",
    "\n",
    "b = 0o7436\n",
    "print (b)\n",
    "\n",
    "c = 0xfade\n",
    "print (c)\n",
    "\n",
    "print ( bin ( 80 ))\n",
    "print ( oct ( 3870 ))\n",
    "print ( hex ( 64222 ))\n",
    "print ( bin ( 0b1010000))\n",
    "print ( bin ( 0xfade ))\n",
    "print ( oct ( 0xfade ))\n",
    "print ( oct ( 0o7436))\n",
    "print ( hex ( 0b1010000))\n",
    "print ( hex ( 0xfade ))"
   ]
  }
 ],
 "metadata": {
  "kernelspec": {
   "display_name": "Python 3 (ipykernel)",
   "language": "python",
   "name": "python3"
  },
  "language_info": {
   "codemirror_mode": {
    "name": "ipython",
    "version": 3
   },
   "file_extension": ".py",
   "mimetype": "text/x-python",
   "name": "python",
   "nbconvert_exporter": "python",
   "pygments_lexer": "ipython3",
   "version": "3.11.5"
  }
 },
 "nbformat": 4,
 "nbformat_minor": 5
}

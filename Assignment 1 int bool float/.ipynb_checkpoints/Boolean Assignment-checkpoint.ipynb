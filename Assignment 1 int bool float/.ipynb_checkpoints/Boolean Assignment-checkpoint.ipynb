{
 "cells": [
  {
   "cell_type": "markdown",
   "id": "aeaf9a87",
   "metadata": {},
   "source": [
    "Q. Declare a boolean value and store it in a variable.\n",
    "Check the type and print the id of the same."
   ]
  },
  {
   "cell_type": "code",
   "execution_count": 1,
   "id": "b8350117",
   "metadata": {},
   "outputs": [
    {
     "name": "stdout",
     "output_type": "stream",
     "text": [
      "<class 'bool'> 140715099171360\n"
     ]
    }
   ],
   "source": [
    "var_1 = True\n",
    "print(type(var_1), id(var_1))"
   ]
  },
  {
   "cell_type": "markdown",
   "id": "c1fe9e46",
   "metadata": {},
   "source": [
    "Q. Take one boolean value between 0 - 256.\n",
    "Assign it to two different variables.\n",
    "Check the id of both the variables. It should come the same. Check why?"
   ]
  },
  {
   "cell_type": "code",
   "execution_count": 2,
   "id": "e4ec012b",
   "metadata": {},
   "outputs": [
    {
     "name": "stdout",
     "output_type": "stream",
     "text": [
      "140715099171360 140715099171360\n"
     ]
    }
   ],
   "source": [
    "var_2 = True\n",
    "var_3 = True\n",
    "print(id(var_2),id(var_3))"
   ]
  },
  {
   "cell_type": "markdown",
   "id": "7a9b9d80",
   "metadata": {},
   "source": [
    "Q. Arithmetic Operations on boolean data\n",
    "Take two different boolean values.\n",
    "Store them in two different variables.\n"
   ]
  },
  {
   "cell_type": "code",
   "execution_count": 3,
   "id": "e103826c",
   "metadata": {},
   "outputs": [
    {
     "name": "stdout",
     "output_type": "stream",
     "text": [
      "The sum of True and True is 2\n",
      "The difference of True and True is 0\n",
      "The product of True and True is 1\n",
      "The division of True by True is 1.0\n",
      "The remainder of division of True by True is 0\n",
      "The quotient of division of True by True is 1.0\n",
      "The number True raised to True is 1\n"
     ]
    }
   ],
   "source": [
    "var_6 = True\n",
    "var_7 = True\n",
    "# Find sum of both numbers\n",
    "print(f\"The sum of {var_6} and {var_7} is {var_6 + var_7}\")\n",
    "\n",
    "# Find difference between them\n",
    "print(f\"The difference of {var_6} and {var_7} is {var_6 - var_7}\")\n",
    "\n",
    "\n",
    "# Find the product of both numbers.\n",
    "print(f\"The product of {var_6} and {var_7} is {var_6 * var_7}\")\n",
    "\n",
    "\n",
    "# Find value after dividing first num with second number\n",
    "print(f\"The division of {var_6} by {var_7} is {var_6 / var_7}\")\n",
    "\n",
    "# Find the remainder after dividing first number with second number\n",
    "print(f\"The remainder of division of {var_6} by {var_7} is {var_6 % var_7}\")\n",
    "\n",
    "# Find the quotient after dividing first number with second number\n",
    "print(f\"The quotient of division of {var_6} by {var_7} is {var_6 / var_7}\")\n",
    "\n",
    "# Find the result of the first num to the power of the second number.\n",
    "print(f\"The number {var_6} raised to {var_7} is {var_6 ** var_7}\")"
   ]
  },
  {
   "cell_type": "markdown",
   "id": "c501064a",
   "metadata": {},
   "source": [
    "Q. Comparison Operators on boolean values\n",
    "Take two different boolean values.\n",
    "Store them in two different variables.\n",
    "Do below operations on them:-\n",
    "Compare these two values with below operator:-\n"
   ]
  },
  {
   "cell_type": "code",
   "execution_count": 5,
   "id": "adf2733b",
   "metadata": {},
   "outputs": [
    {
     "name": "stdout",
     "output_type": "stream",
     "text": [
      "False\n",
      "False\n",
      "True\n",
      "True\n"
     ]
    }
   ],
   "source": [
    "var_8 = True\n",
    "var_9 = True\n",
    "# Greater than, '>'\n",
    "print(var_8 > var_9)\n",
    "\n",
    "# Smaller than, '<'\n",
    "print(var_8 < var_9)\n",
    "\n",
    "# Greater than or equal to, '>='\n",
    "print(var_8 >= var_9)\n",
    "\n",
    "# Less than or equal to, '<='\n",
    "print(var_8 <= var_9)"
   ]
  },
  {
   "cell_type": "markdown",
   "id": "68c738fe",
   "metadata": {},
   "source": [
    "Q. Equality Operator\n",
    "Take two different boolean values.\n",
    "Store them in two different variables.\n",
    "Equate them using equality operators (==, !=)\n",
    "Observe the output(return type should be boolean)"
   ]
  },
  {
   "cell_type": "code",
   "execution_count": 8,
   "id": "cf564789",
   "metadata": {},
   "outputs": [
    {
     "name": "stdout",
     "output_type": "stream",
     "text": [
      "False\n",
      "True\n"
     ]
    }
   ],
   "source": [
    "var_10 = True\n",
    "var_11 = False\n",
    "print(var_10 == var_11 )\n",
    "print(var_10 != var_11 )"
   ]
  },
  {
   "cell_type": "markdown",
   "id": "8257b80f",
   "metadata": {},
   "source": [
    "Q. Logical operators\n",
    "Observe the output of below code\n",
    "Cross check the output manually\n"
   ]
  },
  {
   "cell_type": "code",
   "execution_count": 7,
   "id": "8ead942f",
   "metadata": {},
   "outputs": [
    {
     "name": "stdout",
     "output_type": "stream",
     "text": [
      "True\n",
      "False\n",
      "False\n",
      "True\n",
      "True\n",
      "True\n",
      "False\n",
      "False\n",
      "True\n"
     ]
    }
   ],
   "source": [
    "print ( True and True )\n",
    "#----------------------------------------->Output is True\n",
    "#----------------------------------------->Output is False\n",
    "print ( True and False )\n",
    "#----------------------------------------->Output is False\n",
    "print ( False and False )\n",
    "#----------------------------------------->Output is False\n",
    "print ( True or True )\n",
    "#----------------------------------------->Output is True\n",
    "print ( False or True )\n",
    "#----------------------------------------->Output is True\n",
    "print ( True or False )\n",
    "#----------------------------------------->Output is True\n",
    "print ( False or False )\n",
    "#----------------------------------------->Output is False\n",
    "print ( not True )\n",
    "#----------------------------------------->Output is False\n",
    "print ( not False )\n",
    "#----------------------------------------->Output is True"
   ]
  },
  {
   "cell_type": "markdown",
   "id": "d07c7282",
   "metadata": {},
   "source": [
    "<!-- Q. Bitwise Operators\n",
    "Do below operations on the values provided below:-\n"
   ]
  },
  {
   "cell_type": "code",
   "execution_count": 9,
   "id": "5382e9ab",
   "metadata": {},
   "outputs": [
    {
     "name": "stdout",
     "output_type": "stream",
     "text": [
      "True\n",
      "True\n",
      "True\n",
      "-2\n",
      "4\n",
      "0\n"
     ]
    }
   ],
   "source": [
    "# Bitwise and(&) --------------> True, True -------> Output is True\n",
    "print(True & True)\n",
    "\n",
    "# Bitwise or(|) --------------> True, False -------> Output is True\n",
    "print(True | False)\n",
    "\n",
    "# Bitwise(^) --------------> True, False -------> Output is True\n",
    "print(True ^ False)\n",
    "\n",
    "# Bitwise negation(~) ---------> True -------> Output is -2\n",
    "print(~True)\n",
    "\n",
    "# Bitwise left shift ---------> True,2 -------> Output is 4\n",
    "print(True<<2)\n",
    "\n",
    "# Bitwise right shift ---------> True,2 -------> Output is 0\n",
    "print(True>>2)\n",
    "\n",
    "# Cross check the output manually -->"
   ]
  },
  {
   "cell_type": "markdown",
   "id": "de76ca38",
   "metadata": {},
   "source": [
    "Q. What is the output of expression inside the print statement. Cross\n",
    "check before running the program.\n"
   ]
  },
  {
   "cell_type": "code",
   "execution_count": 10,
   "id": "0b0878e5",
   "metadata": {},
   "outputs": [
    {
     "name": "stdout",
     "output_type": "stream",
     "text": [
      "True\n",
      "False\n",
      "True\n",
      "False\n"
     ]
    }
   ],
   "source": [
    "a = True\n",
    "b = True\n",
    "print (a is b) #True or False? #\n",
    "print (a is not b) #True or False?\n",
    "a = False\n",
    "b = False\n",
    "print (a is b) #True or False?\n",
    "print (a is not b) #True or False?"
   ]
  },
  {
   "cell_type": "markdown",
   "id": "da8cc7a4",
   "metadata": {},
   "source": [
    "Q. Membership operation\n",
    "in, not in are two membership operators and it returns boolean value\n"
   ]
  },
  {
   "cell_type": "code",
   "execution_count": 11,
   "id": "265e38a2",
   "metadata": {},
   "outputs": [
    {
     "name": "stdout",
     "output_type": "stream",
     "text": [
      "True\n",
      "True\n",
      "True\n",
      "True\n",
      "True\n"
     ]
    }
   ],
   "source": [
    "print ( True in [ 10 , 10.20 , 10 + 20j , 'Python' , True ])\n",
    "print ( False in ( 10 , 10.20 , 10 + 20j , 'Python' , False ))\n",
    "print ( True in { 1 , 2 , 3 , True })\n",
    "print ( True in { True : 100 , False : 200 , True : 300 })\n",
    "print ( False in { True : 100 , False : 200 , True : 300 })"
   ]
  }
 ],
 "metadata": {
  "kernelspec": {
   "display_name": "Python 3 (ipykernel)",
   "language": "python",
   "name": "python3"
  },
  "language_info": {
   "codemirror_mode": {
    "name": "ipython",
    "version": 3
   },
   "file_extension": ".py",
   "mimetype": "text/x-python",
   "name": "python",
   "nbconvert_exporter": "python",
   "pygments_lexer": "ipython3",
   "version": "3.11.5"
  }
 },
 "nbformat": 4,
 "nbformat_minor": 5
}

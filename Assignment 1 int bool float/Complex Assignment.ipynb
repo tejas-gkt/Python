{
 "cells": [
  {
   "cell_type": "markdown",
   "id": "d0fc8d3b",
   "metadata": {},
   "source": [
    "Q. Declare a complex number and store it in a variable.\n",
    "Check the type and print the id of the same."
   ]
  },
  {
   "cell_type": "code",
   "execution_count": 1,
   "id": "4b4b4b49",
   "metadata": {},
   "outputs": [
    {
     "name": "stdout",
     "output_type": "stream",
     "text": [
      "<class 'complex'> 1889656829200\n"
     ]
    }
   ],
   "source": [
    "var_1 = 20 + 30j\n",
    "print(type(var_1),id(var_1))"
   ]
  },
  {
   "cell_type": "markdown",
   "id": "4094370f",
   "metadata": {},
   "source": [
    "Q. Arithmetic Operations on complex number\n",
    "Take two different complex numbers.\n",
    "Store them in two different variables.\n",
    "Do below operations on them:-"
   ]
  },
  {
   "cell_type": "code",
   "execution_count": 2,
   "id": "5eee27a3",
   "metadata": {},
   "outputs": [
    {
     "name": "stdout",
     "output_type": "stream",
     "text": [
      "(3+3j)\n",
      "The product of (5+6j) and (2+3j) is (-8+27j)\n",
      "The division of (5+6j) by (2+3j) is (2.1538461538461537-0.23076923076923078j)\n",
      "The number (5+6j) raised to (2+3j) is (-0.283673421781176+4.395677524933715j)\n"
     ]
    }
   ],
   "source": [
    "var_2 = 5 + 6j\n",
    "var_3 = 2 + 3j\n",
    "\n",
    "# Find difference between them\n",
    "print(var_2 - var_3)\n",
    "\n",
    "# Find the product of both numbers.\n",
    "print(f\"The product of {var_2} and {var_3} is {var_2 * var_3}\")\n",
    "\n",
    "# Find value after dividing first num with second number\n",
    "print(f\"The division of {var_2} by {var_3} is {var_2 / var_3}\")\n",
    "\n",
    "# Find the result of the first num to the power of the second number.\n",
    "print(f\"The number {var_2} raised to {var_3} is {var_2 ** var_3}\")"
   ]
  },
  {
   "cell_type": "markdown",
   "id": "7998c09e",
   "metadata": {},
   "source": [
    "Q. Comparison Operation not applicable between instance of complex\n",
    "values.\n",
    "Object reusability concept is not applicable on complex number"
   ]
  },
  {
   "cell_type": "code",
   "execution_count": 8,
   "id": "5c768322",
   "metadata": {},
   "outputs": [
    {
     "name": "stdout",
     "output_type": "stream",
     "text": [
      "False\n"
     ]
    }
   ],
   "source": [
    "var_2 = 5 + 6j\n",
    "var_3 = 2 + 3j\n",
    "\n",
    "# print(var_2 > var_3) will give syntax error\n",
    "\n",
    "var_4 = 10 + 10j\n",
    "var_5 = 10 + 10j\n",
    "print(var_4 is var_5)"
   ]
  },
  {
   "cell_type": "markdown",
   "id": "db7422a3",
   "metadata": {},
   "source": [
    "Q. Equality Operator\n",
    "Take two different complex numbers.\n",
    "Store them in two different variables.\n",
    "Equate them using equality operators (==, !=)\n",
    "Observe the output(return type should be boolean)"
   ]
  },
  {
   "cell_type": "code",
   "execution_count": 9,
   "id": "bb62b088",
   "metadata": {},
   "outputs": [
    {
     "name": "stdout",
     "output_type": "stream",
     "text": [
      "False\n",
      "True\n"
     ]
    }
   ],
   "source": [
    "var_2 = 5 + 6j\n",
    "var_3 = 2 + 3j\n",
    "\n",
    "print(var_2 == var_3)\n",
    "print(var_2 != var_3)"
   ]
  },
  {
   "cell_type": "markdown",
   "id": "0ba14358",
   "metadata": {},
   "source": [
    "Q. Logical operators\n",
    "Observe the output of below code\n",
    "Cross check the output manually"
   ]
  },
  {
   "cell_type": "code",
   "execution_count": 3,
   "id": "7b2f26c4",
   "metadata": {},
   "outputs": [
    {
     "name": "stdout",
     "output_type": "stream",
     "text": [
      "(20+30j)\n",
      "0j\n",
      "0j\n",
      "0j\n",
      "(10+20j)\n",
      "(20+30j)\n",
      "(20+30j)\n",
      "0j\n",
      "False\n",
      "True\n"
     ]
    }
   ],
   "source": [
    "print ( 10 + 20j and 20 + 30j ) #20+30j\n",
    "#----------------------------------------->Output is 20+30j\n",
    "print ( 0 + 0j and 20 + 30j ) #0+0j\n",
    "#----------------------------------------->Output is 0j\n",
    "print ( 20 + 30j and 0 + 0j ) #0+0j\n",
    "#----------------------------------------->Output is 0j\n",
    "print ( 0 + 0j and 0 + 0j ) #0+0j\n",
    "#----------------------------------------->Output is 0j\n",
    "print ( 10 + 20j or 20 + 30j ) #10+20j\n",
    "#----------------------------------------->Output is 10+20j\n",
    "print ( 0 + 0j or 20 + 30j ) #20+30j\n",
    "#----------------------------------------->Output is 20+30j\n",
    "print ( 20 + 30j or 0 + 0j ) #20+30j\n",
    "#----------------------------------------->Output is 20+30j\n",
    "print ( 0 + 0j or 0 + 0j ) #0+0j\n",
    "#----------------------------------------->Output is 0j\n",
    "print ( not 10 + 20j ) #False\n",
    "#----------------------------------------->Output is False\n",
    "print ( not 0 + 0j ) #True\n",
    "#----------------------------------------->Output is True"
   ]
  },
  {
   "cell_type": "code",
   "execution_count": 4,
   "id": "27d73ed0",
   "metadata": {},
   "outputs": [
    {
     "name": "stdout",
     "output_type": "stream",
     "text": [
      "False\n",
      "True\n"
     ]
    }
   ],
   "source": [
    "# Q. What is the output of the expression inside the print statement.\n",
    "# Cross check before running the program.\n",
    "a = 10 + 20j\n",
    "b = 10 + 20j\n",
    "print (a is b) #False #True or False?\n",
    "print (a is not b) #True #True or False?"
   ]
  },
  {
   "cell_type": "code",
   "execution_count": 5,
   "id": "c479d3dd",
   "metadata": {},
   "outputs": [
    {
     "name": "stdout",
     "output_type": "stream",
     "text": [
      "True\n",
      "True\n",
      "True\n",
      "True\n",
      "True\n",
      "True\n"
     ]
    }
   ],
   "source": [
    "# Q. Membership operation\n",
    "# in, not in are two membership operators and it returns boolean value\n",
    "print ( '2.7' in 'Python2.7.8' ) #True\n",
    "print ( 10 + 20j in [ 10 , 10.20 , 10 + 20j , 'Python' ]) #True\n",
    "print ( 10 + 20j in ( 10 , 10.20 , 10 + 20j , 'Python' )) #True\n",
    "print ( 30 + 40j in { 1 , 20.30 , 30 + 40j }) #True\n",
    "print ( 30 + 40j in { 1 : 100 , 2.3 : 200 , 30 + 40j : 300 }) #True\n",
    "print ( 10 in range ( 20 )) #True"
   ]
  }
 ],
 "metadata": {
  "kernelspec": {
   "display_name": "Python 3 (ipykernel)",
   "language": "python",
   "name": "python3"
  },
  "language_info": {
   "codemirror_mode": {
    "name": "ipython",
    "version": 3
   },
   "file_extension": ".py",
   "mimetype": "text/x-python",
   "name": "python",
   "nbconvert_exporter": "python",
   "pygments_lexer": "ipython3",
   "version": "3.11.5"
  }
 },
 "nbformat": 4,
 "nbformat_minor": 5
}

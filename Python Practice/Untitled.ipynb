{
 "cells": [
  {
   "cell_type": "code",
   "execution_count": 1,
   "id": "fa35ed64",
   "metadata": {},
   "outputs": [
    {
     "name": "stdout",
     "output_type": "stream",
     "text": [
      "Hello everyone!\n",
      "    Welcome to Python classes by Maynak\n"
     ]
    }
   ],
   "source": [
    "import main_1\n"
   ]
  },
  {
   "cell_type": "code",
   "execution_count": 3,
   "id": "938c3c38",
   "metadata": {},
   "outputs": [
    {
     "name": "stdout",
     "output_type": "stream",
     "text": [
      "Hello everyone!\n",
      "    Welcome to Python classes by Maynak\n",
      "Enter a Number: 9\n",
      "ENter a second number: 8\n",
      "17\n"
     ]
    }
   ],
   "source": [
    "%run main_1.py"
   ]
  },
  {
   "cell_type": "code",
   "execution_count": null,
   "id": "af1e42b0",
   "metadata": {},
   "outputs": [],
   "source": []
  }
 ],
 "metadata": {
  "kernelspec": {
   "display_name": "Python 3 (ipykernel)",
   "language": "python",
   "name": "python3"
  },
  "language_info": {
   "codemirror_mode": {
    "name": "ipython",
    "version": 3
   },
   "file_extension": ".py",
   "mimetype": "text/x-python",
   "name": "python",
   "nbconvert_exporter": "python",
   "pygments_lexer": "ipython3",
   "version": "3.11.5"
  }
 },
 "nbformat": 4,
 "nbformat_minor": 5
}

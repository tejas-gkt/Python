{
 "cells": [
  {
   "cell_type": "code",
   "execution_count": 8,
   "id": "3d9f1a02",
   "metadata": {},
   "outputs": [],
   "source": [
    "a = \"I am a learnbay trainer\""
   ]
  },
  {
   "cell_type": "code",
   "execution_count": 1,
   "id": "5dee8125",
   "metadata": {},
   "outputs": [
    {
     "name": "stdout",
     "output_type": "stream",
     "text": [
      "Please enter marks: 36\n",
      "Passed\n"
     ]
    }
   ],
   "source": [
    "b = int (input('Please enter marks: '))\n",
    "if b >= 35 and b<60:\n",
    "    print ('Passed')\n",
    "elif b >= 35 and b>= 60:\n",
    "    print ('Passed and also in first class')"
   ]
  },
  {
   "cell_type": "code",
   "execution_count": 10,
   "id": "f5daabd5",
   "metadata": {},
   "outputs": [
    {
     "data": {
      "text/plain": [
       "'learnbay trainer'"
      ]
     },
     "execution_count": 10,
     "metadata": {},
     "output_type": "execute_result"
    }
   ],
   "source": [
    "a[7:len(a)+1]"
   ]
  },
  {
   "cell_type": "code",
   "execution_count": 13,
   "id": "5a652d8d",
   "metadata": {},
   "outputs": [
    {
     "data": {
      "text/plain": [
       "'learnbay trainer'"
      ]
     },
     "execution_count": 13,
     "metadata": {},
     "output_type": "execute_result"
    }
   ],
   "source": [
    "a[-16::]"
   ]
  },
  {
   "cell_type": "code",
   "execution_count": 14,
   "id": "5e58cca5",
   "metadata": {
    "scrolled": true
   },
   "outputs": [
    {
     "data": {
      "text/plain": [
       "'learnbay trainer'"
      ]
     },
     "execution_count": 14,
     "metadata": {},
     "output_type": "execute_result"
    }
   ],
   "source": [
    "a[-16::1]"
   ]
  },
  {
   "cell_type": "code",
   "execution_count": 17,
   "id": "5243c0f4",
   "metadata": {},
   "outputs": [
    {
     "data": {
      "text/plain": [
       "'l a ma I'"
      ]
     },
     "execution_count": 17,
     "metadata": {},
     "output_type": "execute_result"
    }
   ],
   "source": [
    "a[-16::-1]"
   ]
  },
  {
   "cell_type": "code",
   "execution_count": 21,
   "id": "eb840354",
   "metadata": {},
   "outputs": [
    {
     "data": {
      "text/plain": [
       "''"
      ]
     },
     "execution_count": 21,
     "metadata": {},
     "output_type": "execute_result"
    }
   ],
   "source": [
    "a[-16:2:1]"
   ]
  },
  {
   "cell_type": "code",
   "execution_count": 20,
   "id": "46ae4512",
   "metadata": {},
   "outputs": [
    {
     "data": {
      "text/plain": [
       "'l a m'"
      ]
     },
     "execution_count": 20,
     "metadata": {},
     "output_type": "execute_result"
    }
   ],
   "source": [
    "a[-16:2:-1]"
   ]
  },
  {
   "cell_type": "code",
   "execution_count": 22,
   "id": "1e409216",
   "metadata": {},
   "outputs": [
    {
     "data": {
      "text/plain": [
       "''"
      ]
     },
     "execution_count": 22,
     "metadata": {},
     "output_type": "execute_result"
    }
   ],
   "source": [
    "a[-16:10:-1]"
   ]
  },
  {
   "cell_type": "code",
   "execution_count": 23,
   "id": "4c6da03b",
   "metadata": {},
   "outputs": [
    {
     "data": {
      "text/plain": [
       "'l a ma '"
      ]
     },
     "execution_count": 23,
     "metadata": {},
     "output_type": "execute_result"
    }
   ],
   "source": [
    "a[-16:0:-1]"
   ]
  },
  {
   "cell_type": "code",
   "execution_count": 24,
   "id": "ac6b0ace",
   "metadata": {},
   "outputs": [
    {
     "data": {
      "text/plain": [
       "''"
      ]
     },
     "execution_count": 24,
     "metadata": {},
     "output_type": "execute_result"
    }
   ],
   "source": [
    "a[-16:0:1]"
   ]
  },
  {
   "cell_type": "code",
   "execution_count": 25,
   "id": "a0b1a536",
   "metadata": {},
   "outputs": [
    {
     "data": {
      "text/plain": [
       "'reniart yabnrael a ma '"
      ]
     },
     "execution_count": 25,
     "metadata": {},
     "output_type": "execute_result"
    }
   ],
   "source": [
    "a[:0:-1]"
   ]
  },
  {
   "cell_type": "code",
   "execution_count": 26,
   "id": "b24060cb",
   "metadata": {},
   "outputs": [
    {
     "data": {
      "text/plain": [
       "'I'"
      ]
     },
     "execution_count": 26,
     "metadata": {},
     "output_type": "execute_result"
    }
   ],
   "source": [
    "a[0::-1]"
   ]
  },
  {
   "cell_type": "code",
   "execution_count": 4,
   "id": "30f24928",
   "metadata": {},
   "outputs": [
    {
     "name": "stdout",
     "output_type": "stream",
     "text": [
      "Enter any character or any number : @\n",
      "@ is a special character\n"
     ]
    }
   ],
   "source": [
    "a = input('Enter any character or any number : ')\n",
    "\n",
    "if not (a.isalpha()): # this checks that is my input a valid alphabet or not \n",
    "    print(f'{a} is a special character')"
   ]
  },
  {
   "cell_type": "code",
   "execution_count": null,
   "id": "eabecddc",
   "metadata": {},
   "outputs": [],
   "source": [
    "for the earlier code, we can add if statement\n",
    "if i==len(my_str) and count == 0:\n",
    "    print(\"Value error\")"
   ]
  },
  {
   "cell_type": "code",
   "execution_count": 2,
   "id": "0148a3df",
   "metadata": {},
   "outputs": [
    {
     "name": "stdout",
     "output_type": "stream",
     "text": [
      "-1 n\n",
      "-2 o\n",
      "-3 h\n",
      "-4 t\n",
      "-5 y\n",
      "-6 P\n"
     ]
    }
   ],
   "source": [
    "my_str=\"Python\"\n",
    "\n",
    "start = -1\n",
    "stop = -len(my_str)\n",
    "\n",
    "while start>=stop:\n",
    "    print(start,my_str[start])\n",
    "    start-=1"
   ]
  },
  {
   "cell_type": "code",
   "execution_count": 2,
   "id": "f3fbeae8",
   "metadata": {},
   "outputs": [
    {
     "name": "stdout",
     "output_type": "stream",
     "text": [
      "[1, 4, 27, 16, 125, 36, 343, 64, 729, 100, 1331, 144, 2197, 196, 3375, 256, 4913, 324, 6859, 400, 9261, 484, 12167, 576, 15625, 676, 19683, 784, 24389, 900, 29791, 1024, 35937, 1156, 42875, 1296, 50653, 1444, 59319, 1600, 68921, 1764, 79507, 1936, 91125, 2116, 103823, 2304, 117649, 2500]\n"
     ]
    },
    {
     "data": {
      "text/plain": [
       "[1,\n",
       " 4,\n",
       " 27,\n",
       " 16,\n",
       " 125,\n",
       " 36,\n",
       " 343,\n",
       " 64,\n",
       " 729,\n",
       " 100,\n",
       " 1331,\n",
       " 144,\n",
       " 2197,\n",
       " 196,\n",
       " 3375,\n",
       " 256,\n",
       " 4913,\n",
       " 324,\n",
       " 6859,\n",
       " 400,\n",
       " 9261,\n",
       " 484,\n",
       " 12167,\n",
       " 576,\n",
       " 15625,\n",
       " 676,\n",
       " 19683,\n",
       " 784,\n",
       " 24389,\n",
       " 900,\n",
       " 29791,\n",
       " 1024,\n",
       " 35937,\n",
       " 1156,\n",
       " 42875,\n",
       " 1296,\n",
       " 50653,\n",
       " 1444,\n",
       " 59319,\n",
       " 1600,\n",
       " 68921,\n",
       " 1764,\n",
       " 79507,\n",
       " 1936,\n",
       " 91125,\n",
       " 2116,\n",
       " 103823,\n",
       " 2304,\n",
       " 117649,\n",
       " 2500]"
      ]
     },
     "execution_count": 2,
     "metadata": {},
     "output_type": "execute_result"
    }
   ],
   "source": [
    "#conven\n",
    "a=[]\n",
    "for i in range(1,51) :\n",
    "    if i%2==0:\n",
    "        a=a+[i**2]\n",
    "    else:\n",
    "        a=a+[i**3]\n",
    "print(a)\n",
    "\n",
    "#comp\n",
    "lst = [i**2 if (i%2==0) else i**3 for i in range(1,51)]\n",
    "lst"
   ]
  },
  {
   "cell_type": "code",
   "execution_count": 5,
   "id": "4ff03391",
   "metadata": {},
   "outputs": [
    {
     "name": "stdout",
     "output_type": "stream",
     "text": [
      "['A', 'B', 'C', 'D', 'E', 'F', 'G', 'H', 'I', 'J', 'K', 'L', 'M', 'N', 'O', 'P', 'Q', 'R', 'S', 'T', 'U', 'V', 'W', 'X', 'Y', 'Z']\n"
     ]
    }
   ],
   "source": [
    "a=[]\n",
    "for i in range(ord('A'),ord('Z')+1):\n",
    "    a=a+[chr(i)]\n",
    "    \n",
    "print(a)"
   ]
  },
  {
   "cell_type": "code",
   "execution_count": 8,
   "id": "44cd6cc6",
   "metadata": {},
   "outputs": [
    {
     "data": {
      "text/plain": [
       "['A',\n",
       " 'B',\n",
       " 'C',\n",
       " 'D',\n",
       " 'E',\n",
       " 'F',\n",
       " 'G',\n",
       " 'H',\n",
       " 'I',\n",
       " 'J',\n",
       " 'K',\n",
       " 'L',\n",
       " 'M',\n",
       " 'N',\n",
       " 'O',\n",
       " 'P',\n",
       " 'Q',\n",
       " 'R',\n",
       " 'S',\n",
       " 'T',\n",
       " 'U',\n",
       " 'V',\n",
       " 'W',\n",
       " 'X',\n",
       " 'Y',\n",
       " 'Z']"
      ]
     },
     "execution_count": 8,
     "metadata": {},
     "output_type": "execute_result"
    }
   ],
   "source": [
    "a=[chr(i) for i in range(ord('A'),ord('Z')+1) ]\n",
    "a"
   ]
  },
  {
   "cell_type": "code",
   "execution_count": 1,
   "id": "08cc2b7c",
   "metadata": {},
   "outputs": [
    {
     "name": "stdout",
     "output_type": "stream",
     "text": [
      "Enter the password: as\n",
      "Inavlid Password\n",
      "Enter the password: pass\n",
      "Hello, You have successfully logged in to your account\n",
      "Here\n"
     ]
    }
   ],
   "source": [
    "password = 'pass'\n",
    "\n",
    "word  = input('Enter the password: ') #string\n",
    "\n",
    "while True: # Always True\n",
    "    if word == password:\n",
    "        print('Hello, You have successfully logged in to your account')\n",
    "        break\n",
    "    else:\n",
    "        print('Inavlid Password')\n",
    "        word  = input('Enter the password: ') # here it will going to print Invalid password infinte ti,es \n",
    "        \n",
    "print('Here')"
   ]
  },
  {
   "cell_type": "code",
   "execution_count": 3,
   "id": "04a72873",
   "metadata": {},
   "outputs": [
    {
     "name": "stdout",
     "output_type": "stream",
     "text": [
      "Enter the password: p\n",
      "Inavlid Password\n",
      "Enter the password: g\n",
      "Inavlid Password\n",
      "Enter the password: k\n",
      "Inavlid Password\n",
      "Account Locked\n"
     ]
    }
   ],
   "source": [
    "password = 'pass'\n",
    "count = 3\n",
    "\n",
    "\n",
    "while count>0: # Always True\n",
    "    word  = input('Enter the password: ')\n",
    "    if word == password:\n",
    "        print('Hello, You have successfully logged in to your account')\n",
    "        break\n",
    "    else:\n",
    "        print('Inavlid Password')\n",
    "        \n",
    "        count -= 1  \n",
    "else:\n",
    "    print('Account Locked')"
   ]
  },
  {
   "cell_type": "code",
   "execution_count": 4,
   "id": "bc59d75e",
   "metadata": {},
   "outputs": [],
   "source": [
    "lst = [1,2,3,4,5,6,7,8,9,10]"
   ]
  },
  {
   "cell_type": "code",
   "execution_count": 5,
   "id": "b5cd2fc0",
   "metadata": {},
   "outputs": [
    {
     "data": {
      "text/plain": [
       "[8, 7, 6, 5, 4, 3]"
      ]
     },
     "execution_count": 5,
     "metadata": {},
     "output_type": "execute_result"
    }
   ],
   "source": [
    "lst[-3:-9:-1]"
   ]
  },
  {
   "cell_type": "code",
   "execution_count": 6,
   "id": "c6358f6b",
   "metadata": {},
   "outputs": [
    {
     "data": {
      "text/plain": [
       "[]"
      ]
     },
     "execution_count": 6,
     "metadata": {},
     "output_type": "execute_result"
    }
   ],
   "source": [
    "lst[-3:-9]"
   ]
  },
  {
   "cell_type": "code",
   "execution_count": 8,
   "id": "013a2ac8",
   "metadata": {},
   "outputs": [
    {
     "data": {
      "text/plain": [
       "[]"
      ]
     },
     "execution_count": 8,
     "metadata": {},
     "output_type": "execute_result"
    }
   ],
   "source": [
    "lst[2:6:-1]"
   ]
  },
  {
   "cell_type": "code",
   "execution_count": 9,
   "id": "6c306127",
   "metadata": {},
   "outputs": [
    {
     "data": {
      "text/plain": [
       "'12345Δ'"
      ]
     },
     "execution_count": 9,
     "metadata": {},
     "output_type": "execute_result"
    }
   ],
   "source": [
    "a = '12345\\u0394'\n",
    "a"
   ]
  },
  {
   "cell_type": "code",
   "execution_count": 10,
   "id": "961adeb3",
   "metadata": {},
   "outputs": [
    {
     "data": {
      "text/plain": [
       "0"
      ]
     },
     "execution_count": 10,
     "metadata": {},
     "output_type": "execute_result"
    }
   ],
   "source": [
    "a=\"Mayank Atul Ghai\"\n",
    "a.count('a',7,9)"
   ]
  },
  {
   "cell_type": "code",
   "execution_count": 19,
   "id": "668f044a",
   "metadata": {},
   "outputs": [
    {
     "ename": "TypeError",
     "evalue": "count() takes at most 3 arguments (4 given)",
     "output_type": "error",
     "traceback": [
      "\u001b[1;31m---------------------------------------------------------------------------\u001b[0m",
      "\u001b[1;31mTypeError\u001b[0m                                 Traceback (most recent call last)",
      "Cell \u001b[1;32mIn[19], line 2\u001b[0m\n\u001b[0;32m      1\u001b[0m a\u001b[38;5;241m=\u001b[39m\u001b[38;5;124m\"\u001b[39m\u001b[38;5;124mMayank Atul Ghai\u001b[39m\u001b[38;5;124m\"\u001b[39m\n\u001b[1;32m----> 2\u001b[0m a\u001b[38;5;241m.\u001b[39mcount(\u001b[38;5;124m'\u001b[39m\u001b[38;5;124ma\u001b[39m\u001b[38;5;124m'\u001b[39m,\u001b[38;5;241m-\u001b[39m\u001b[38;5;241m4\u001b[39m,\u001b[38;5;241m-\u001b[39m\u001b[38;5;241m16\u001b[39m,\u001b[38;5;241m-\u001b[39m\u001b[38;5;241m1\u001b[39m)\n",
      "\u001b[1;31mTypeError\u001b[0m: count() takes at most 3 arguments (4 given)"
     ]
    }
   ],
   "source": [
    "a=\"Mayank Atul Ghai\"\n",
    "a.count('a',-4,-16,-1)"
   ]
  },
  {
   "cell_type": "code",
   "execution_count": 5,
   "id": "85ea6387",
   "metadata": {},
   "outputs": [
    {
     "name": "stdout",
     "output_type": "stream",
     "text": [
      "Learnbay provides\n",
      "\"Java\", \"Python\" \n",
      "classes\n",
      "<class 'str'>\n"
     ]
    }
   ],
   "source": [
    "var =  '''Learnbay provides\n",
    "\"Java\", \"Python\" \n",
    "classes'''\n",
    "print(var)\n",
    "print(type(var))"
   ]
  },
  {
   "cell_type": "code",
   "execution_count": 5,
   "id": "26b5b208",
   "metadata": {},
   "outputs": [
    {
     "name": "stdout",
     "output_type": "stream",
     "text": [
      "-1  .\n",
      "-2  h\n",
      "-3  c\n",
      "-4  t\n",
      "-5  u\n",
      "-6  D\n",
      "-7   \n",
      "-8  e\n",
      "-9  r\n",
      "-10  '\n",
      "-11  u\n",
      "-12  o\n",
      "-13  y\n",
      "-14   \n",
      "-15  s\n",
      "-16  s\n",
      "-17  e\n",
      "-18  l\n",
      "-19  n\n",
      "-20  u\n",
      "-21   \n",
      "-22  t\n",
      "-23  s\n",
      "-24  r\n",
      "-25  i\n",
      "-26  f\n",
      "-27   \n",
      "-28  t\n",
      "-29  a\n",
      "-30   \n",
      "-31  s\n",
      "-32  u\n",
      "-33  o\n",
      "-34  i\n",
      "-35  v\n",
      "-36  b\n",
      "-37  o\n",
      "-38   \n",
      "-39  e\n",
      "-40  b\n",
      "-41   \n",
      "-42  t\n",
      "-43  o\n",
      "-44  n\n",
      "-45   \n",
      "-46  y\n",
      "-47  a\n",
      "-48  m\n",
      "-49   \n",
      "-50  y\n",
      "-51  a\n",
      "-52  w\n",
      "-53   \n",
      "-54  t\n",
      "-55  a\n",
      "-56  h\n",
      "-57  t\n",
      "-58   \n",
      "-59  h\n",
      "-60  g\n",
      "-61  u\n",
      "-62  o\n",
      "-63  h\n",
      "-64  t\n",
      "-65  l\n",
      "-66  A\n"
     ]
    }
   ],
   "source": [
    "my_str=\"Although that way may not be obvious at first unless you're Dutch.\"\n",
    "\n",
    "for i in range (1,len(my_str)+1):\n",
    "    print(f\"{-i} \",my_str[-i])\n"
   ]
  },
  {
   "cell_type": "code",
   "execution_count": 6,
   "id": "c918386b",
   "metadata": {},
   "outputs": [
    {
     "name": "stdout",
     "output_type": "stream",
     "text": [
      "0  A\n",
      "1  l\n",
      "2  t\n",
      "3  h\n",
      "4  o\n",
      "5  u\n",
      "6  g\n",
      "7  h\n",
      "8   \n",
      "9  t\n",
      "10  h\n",
      "11  a\n",
      "12  t\n",
      "13   \n",
      "14  w\n",
      "15  a\n",
      "16  y\n",
      "17   \n",
      "18  m\n",
      "19  a\n",
      "20  y\n",
      "21   \n",
      "22  n\n",
      "23  o\n",
      "24  t\n",
      "25   \n",
      "26  b\n",
      "27  e\n",
      "28   \n",
      "29  o\n",
      "30  b\n",
      "31  v\n",
      "32  i\n",
      "33  o\n",
      "34  u\n",
      "35  s\n",
      "36   \n",
      "37  a\n",
      "38  t\n",
      "39   \n",
      "40  f\n",
      "41  i\n",
      "42  r\n",
      "43  s\n",
      "44  t\n",
      "45   \n",
      "46  u\n",
      "47  n\n",
      "48  l\n",
      "49  e\n",
      "50  s\n",
      "51  s\n",
      "52   \n",
      "53  y\n",
      "54  o\n",
      "55  u\n",
      "56  '\n",
      "57  r\n",
      "58  e\n",
      "59   \n",
      "60  D\n",
      "61  u\n",
      "62  t\n",
      "63  c\n",
      "64  h\n",
      "65  .\n"
     ]
    }
   ],
   "source": [
    "my_str=\"Although that way may not be obvious at first unless you're Dutch.\"\n",
    "# yaw ta\n",
    "for i in range (0,len(my_str)):\n",
    "    print(f\"{i} \",my_str[i])"
   ]
  },
  {
   "cell_type": "code",
   "execution_count": 7,
   "id": "16b0e3db",
   "metadata": {},
   "outputs": [
    {
     "data": {
      "text/plain": [
       "1"
      ]
     },
     "execution_count": 7,
     "metadata": {},
     "output_type": "execute_result"
    }
   ],
   "source": [
    "my_str=\"Although that way may not be obvious at first unless you're Dutch.\"\n",
    "# yaw ta\n",
    "my_str.count('w')\n",
    "\n",
    "my_str[-46:0:-()]"
   ]
  },
  {
   "cell_type": "code",
   "execution_count": 1,
   "id": "997134f4",
   "metadata": {},
   "outputs": [
    {
     "data": {
      "text/plain": [
       "4"
      ]
     },
     "execution_count": 1,
     "metadata": {},
     "output_type": "execute_result"
    }
   ],
   "source": [
    "lst = [1,1.0,True,1+0j]\n",
    "lst.count(1+0j)"
   ]
  },
  {
   "cell_type": "code",
   "execution_count": 1,
   "id": "e0d0e7ea",
   "metadata": {},
   "outputs": [],
   "source": [
    "emp_detail = {('age',):[28,29]}"
   ]
  },
  {
   "cell_type": "code",
   "execution_count": 4,
   "id": "b9ee7913",
   "metadata": {},
   "outputs": [
    {
     "data": {
      "text/plain": [
       "[28, 29]"
      ]
     },
     "execution_count": 4,
     "metadata": {},
     "output_type": "execute_result"
    }
   ],
   "source": [
    "emp_detail[('age',)]"
   ]
  },
  {
   "cell_type": "code",
   "execution_count": 8,
   "id": "64febc22",
   "metadata": {},
   "outputs": [
    {
     "name": "stdout",
     "output_type": "stream",
     "text": [
      "{1: 2, 4: 5, 7: 8}\n"
     ]
    }
   ],
   "source": [
    "d= ( (1,2) , (4,5) , (7,8))\n",
    "emp = dict(d)\n",
    "print(emp)"
   ]
  },
  {
   "cell_type": "code",
   "execution_count": 9,
   "id": "fd83166a",
   "metadata": {},
   "outputs": [
    {
     "ename": "TypeError",
     "evalue": "unhashable type: 'list'",
     "output_type": "error",
     "traceback": [
      "\u001b[1;31m---------------------------------------------------------------------------\u001b[0m",
      "\u001b[1;31mTypeError\u001b[0m                                 Traceback (most recent call last)",
      "Cell \u001b[1;32mIn[9], line 1\u001b[0m\n\u001b[1;32m----> 1\u001b[0m io \u001b[38;5;241m=\u001b[39m {[\u001b[38;5;241m1\u001b[39m]:\u001b[38;5;124m'\u001b[39m\u001b[38;5;124mstr\u001b[39m\u001b[38;5;124m'\u001b[39m}\n",
      "\u001b[1;31mTypeError\u001b[0m: unhashable type: 'list'"
     ]
    }
   ],
   "source": [
    "io = {[1]:'str'}"
   ]
  },
  {
   "cell_type": "code",
   "execution_count": null,
   "id": "89bb65bc",
   "metadata": {},
   "outputs": [],
   "source": []
  },
  {
   "cell_type": "code",
   "execution_count": 2,
   "id": "b0bd61e7",
   "metadata": {},
   "outputs": [],
   "source": [
    "def add(a,b,c=10):\n",
    "    return a + b + c"
   ]
  },
  {
   "cell_type": "code",
   "execution_count": 4,
   "id": "b0622107",
   "metadata": {},
   "outputs": [
    {
     "ename": "TypeError",
     "evalue": "add() got multiple values for argument 'b'",
     "output_type": "error",
     "traceback": [
      "\u001b[1;31m---------------------------------------------------------------------------\u001b[0m",
      "\u001b[1;31mTypeError\u001b[0m                                 Traceback (most recent call last)",
      "Cell \u001b[1;32mIn[4], line 1\u001b[0m\n\u001b[1;32m----> 1\u001b[0m add(\u001b[38;5;241m1\u001b[39m,\u001b[38;5;241m2\u001b[39m,b\u001b[38;5;241m=\u001b[39m\u001b[38;5;241m12\u001b[39m)\n",
      "\u001b[1;31mTypeError\u001b[0m: add() got multiple values for argument 'b'"
     ]
    }
   ],
   "source": [
    "add(1,2,b=12)"
   ]
  },
  {
   "cell_type": "code",
   "execution_count": 7,
   "id": "2539b129",
   "metadata": {},
   "outputs": [
    {
     "data": {
      "text/plain": [
       "['e', 'o', 'E', 'e', 'o', 'e']"
      ]
     },
     "execution_count": 7,
     "metadata": {},
     "output_type": "execute_result"
    }
   ],
   "source": [
    "text = \" Hello Everyone\"\n",
    "\n",
    "a = [i for i in text if (i in 'aeiouAEIOU' )]\n",
    "a"
   ]
  },
  {
   "cell_type": "code",
   "execution_count": 26,
   "id": "4017505a",
   "metadata": {},
   "outputs": [
    {
     "name": "stdout",
     "output_type": "stream",
     "text": [
      "6\n"
     ]
    }
   ],
   "source": [
    "def fact(n):\n",
    "    if n==1:\n",
    "        return 1\n",
    "    else:\n",
    "        return n* fact(n-1)\n",
    "    \n",
    "print(fact(3))"
   ]
  },
  {
   "cell_type": "code",
   "execution_count": 24,
   "id": "c6d8b844",
   "metadata": {},
   "outputs": [
    {
     "name": "stdout",
     "output_type": "stream",
     "text": [
      "HELLO\n",
      "HELLO\n"
     ]
    }
   ],
   "source": [
    "# Python program to illustrate functions \n",
    "# can be treated as objects \n",
    "def shout(text): \n",
    "\treturn text.upper() \n",
    "\n",
    "print(shout('Hello')) \n",
    "\n",
    "yell = shout \n",
    "\n",
    "print(yell('Hello')) \n"
   ]
  },
  {
   "cell_type": "code",
   "execution_count": 18,
   "id": "fa007382",
   "metadata": {},
   "outputs": [],
   "source": [
    "def outer():\n",
    "    def inner():\n",
    "        return 'Hello, I am an Inner function called inside an outer function'\n",
    "    return inner()"
   ]
  },
  {
   "cell_type": "code",
   "execution_count": 19,
   "id": "eb8b7912",
   "metadata": {},
   "outputs": [
    {
     "name": "stdout",
     "output_type": "stream",
     "text": [
      "Hello, I am an Inner function called inside an outer function\n"
     ]
    }
   ],
   "source": [
    "a = outer()\n",
    "print(a)"
   ]
  },
  {
   "cell_type": "code",
   "execution_count": null,
   "id": "dcae7c83",
   "metadata": {},
   "outputs": [],
   "source": []
  },
  {
   "cell_type": "code",
   "execution_count": 22,
   "id": "a65223f0",
   "metadata": {},
   "outputs": [
    {
     "name": "stdout",
     "output_type": "stream",
     "text": [
      "im printing x here: 15\n",
      "25\n"
     ]
    }
   ],
   "source": [
    "# Python program to illustrate functions \n",
    "# Functions can return another function \n",
    "\n",
    "def create_adder(x): \n",
    "    print(f\"im printing x here: {x}\")\n",
    "    def adder(y): \n",
    "        return x+y \n",
    "\n",
    "    return adder \n",
    "\n",
    "add_15 = create_adder(15) \n",
    "\n",
    "print(add_15(10)) \n"
   ]
  }
 ],
 "metadata": {
  "kernelspec": {
   "display_name": "Python 3 (ipykernel)",
   "language": "python",
   "name": "python3"
  },
  "language_info": {
   "codemirror_mode": {
    "name": "ipython",
    "version": 3
   },
   "file_extension": ".py",
   "mimetype": "text/x-python",
   "name": "python",
   "nbconvert_exporter": "python",
   "pygments_lexer": "ipython3",
   "version": "3.11.5"
  }
 },
 "nbformat": 4,
 "nbformat_minor": 5
}

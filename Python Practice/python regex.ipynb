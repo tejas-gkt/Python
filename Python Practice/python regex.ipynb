{
 "cells": [
  {
   "cell_type": "code",
   "execution_count": 1,
   "id": "267e1c9f",
   "metadata": {},
   "outputs": [],
   "source": [
    "import re"
   ]
  },
  {
   "cell_type": "code",
   "execution_count": 3,
   "id": "755de6ff",
   "metadata": {},
   "outputs": [
    {
     "name": "stdout",
     "output_type": "stream",
     "text": [
      "<re.Match object; span=(0, 1), match='1'>\n",
      "<re.Match object; span=(1, 2), match='2'>\n",
      "<re.Match object; span=(2, 2), match=''>\n",
      "<re.Match object; span=(3, 4), match='5'>\n",
      "<re.Match object; span=(4, 5), match='4'>\n",
      "<re.Match object; span=(5, 6), match='6'>\n",
      "<re.Match object; span=(6, 7), match='7'>\n",
      "<re.Match object; span=(7, 7), match=''>\n",
      "<re.Match object; span=(8, 9), match='2'>\n",
      "<re.Match object; span=(9, 10), match='2'>\n",
      "<re.Match object; span=(10, 11), match='8'>\n",
      "<re.Match object; span=(11, 12), match='7'>\n",
      "<re.Match object; span=(12, 12), match=''>\n",
      "<re.Match object; span=(13, 13), match=''>\n",
      "<re.Match object; span=(14, 14), match=''>\n",
      "<re.Match object; span=(15, 16), match='4'>\n",
      "<re.Match object; span=(16, 17), match='5'>\n",
      "<re.Match object; span=(17, 18), match='6'>\n",
      "<re.Match object; span=(18, 18), match=''>\n",
      "<re.Match object; span=(19, 19), match=''>\n",
      "<re.Match object; span=(20, 20), match=''>\n",
      "<re.Match object; span=(21, 22), match='3'>\n",
      "<re.Match object; span=(22, 23), match='2'>\n",
      "<re.Match object; span=(23, 23), match=''>\n",
      "<re.Match object; span=(24, 24), match=''>\n",
      "<re.Match object; span=(25, 25), match=''>\n",
      "<re.Match object; span=(26, 27), match='1'>\n",
      "<re.Match object; span=(27, 27), match=''>\n",
      "<re.Match object; span=(28, 29), match='9'>\n",
      "<re.Match object; span=(29, 29), match=''>\n",
      "<re.Match object; span=(30, 30), match=''>\n",
      "<re.Match object; span=(31, 32), match='8'>\n",
      "<re.Match object; span=(32, 33), match='8'>\n",
      "<re.Match object; span=(33, 34), match='9'>\n",
      "<re.Match object; span=(34, 35), match='9'>\n",
      "<re.Match object; span=(35, 36), match='7'>\n",
      "<re.Match object; span=(36, 37), match='8'>\n",
      "<re.Match object; span=(37, 38), match='5'>\n",
      "<re.Match object; span=(38, 38), match=''>\n"
     ]
    }
   ],
   "source": [
    "text = '12 5467 2287 Dt456ab 32# a1 9$ 8899785'\n",
    "\n",
    "pat = r'[0-9]?'\n",
    "\n",
    "x = re.finditer(pat, text)\n",
    "\n",
    "for i in x:\n",
    "    print(i)"
   ]
  },
  {
   "cell_type": "code",
   "execution_count": 5,
   "id": "e3059e2c",
   "metadata": {},
   "outputs": [
    {
     "name": "stdout",
     "output_type": "stream",
     "text": [
      "<re.Match object; span=(0, 2), match='12'>\n",
      "<re.Match object; span=(2, 2), match=''>\n",
      "<re.Match object; span=(3, 7), match='5467'>\n",
      "<re.Match object; span=(7, 7), match=''>\n",
      "<re.Match object; span=(8, 12), match='2287'>\n",
      "<re.Match object; span=(12, 12), match=''>\n",
      "<re.Match object; span=(13, 13), match=''>\n",
      "<re.Match object; span=(14, 14), match=''>\n",
      "<re.Match object; span=(15, 18), match='456'>\n",
      "<re.Match object; span=(18, 18), match=''>\n",
      "<re.Match object; span=(19, 19), match=''>\n",
      "<re.Match object; span=(20, 20), match=''>\n",
      "<re.Match object; span=(21, 23), match='32'>\n",
      "<re.Match object; span=(23, 23), match=''>\n",
      "<re.Match object; span=(24, 24), match=''>\n",
      "<re.Match object; span=(25, 25), match=''>\n",
      "<re.Match object; span=(26, 27), match='1'>\n",
      "<re.Match object; span=(27, 27), match=''>\n",
      "<re.Match object; span=(28, 29), match='9'>\n",
      "<re.Match object; span=(29, 29), match=''>\n",
      "<re.Match object; span=(30, 30), match=''>\n",
      "<re.Match object; span=(31, 38), match='8899785'>\n",
      "<re.Match object; span=(38, 38), match=''>\n"
     ]
    }
   ],
   "source": [
    "text = '12 5467 2287 Dt456ab 32# a1 9$ 8899785'\n",
    "\n",
    "pat = r'[0-9]*'\n",
    "\n",
    "x = re.finditer(pat, text)\n",
    "\n",
    "for i in x:\n",
    "    print(i)"
   ]
  },
  {
   "cell_type": "code",
   "execution_count": 6,
   "id": "a083d7b8",
   "metadata": {},
   "outputs": [
    {
     "name": "stdout",
     "output_type": "stream",
     "text": [
      "<re.Match object; span=(0, 2), match='12'>\n",
      "<re.Match object; span=(3, 7), match='5467'>\n",
      "<re.Match object; span=(8, 12), match='2287'>\n",
      "<re.Match object; span=(15, 18), match='456'>\n",
      "<re.Match object; span=(21, 23), match='32'>\n",
      "<re.Match object; span=(26, 27), match='1'>\n",
      "<re.Match object; span=(28, 29), match='9'>\n",
      "<re.Match object; span=(31, 38), match='8899785'>\n"
     ]
    }
   ],
   "source": [
    "text = '12 5467 2287 Dt456ab 32# a1 9$ 8899785'\n",
    "\n",
    "pat = r'[0-9]+'\n",
    "\n",
    "x = re.finditer(pat, text)\n",
    "\n",
    "for i in x:\n",
    "    print(i)"
   ]
  },
  {
   "cell_type": "code",
   "execution_count": 8,
   "id": "cad56690",
   "metadata": {},
   "outputs": [
    {
     "name": "stdout",
     "output_type": "stream",
     "text": [
      "<re.Match object; span=(13, 15), match='Dt'>\n",
      "<re.Match object; span=(18, 20), match='ab'>\n",
      "<re.Match object; span=(25, 26), match='a'>\n"
     ]
    }
   ],
   "source": [
    "text = '12 5467 2287 Dt456ab 32# a1 9$ 8899785'\n",
    "\n",
    "pat = r'[A-Za-z]+'\n",
    "\n",
    "x = re.finditer(pat, text)\n",
    "\n",
    "for i in x:\n",
    "    print(i)"
   ]
  },
  {
   "cell_type": "code",
   "execution_count": 28,
   "id": "db355ee1",
   "metadata": {},
   "outputs": [
    {
     "name": "stdout",
     "output_type": "stream",
     "text": [
      "<re.Match object; span=(0, 23), match='mayank.ghai@learnbay.co'>\n",
      "<re.Match object; span=(24, 44), match='mayankghai@gmail.com'>\n",
      "<re.Match object; span=(45, 65), match='mayankghai@yahoo.com'>\n",
      "<re.Match object; span=(132, 143), match='info@gov.in'>\n",
      "<re.Match object; span=(144, 157), match='mail@info.com'>\n",
      "<re.Match object; span=(158, 184), match='shweta_analyst@hotmail.com'>\n",
      "<re.Match object; span=(185, 208), match='rajeh_mba.123@yahoo.com'>\n"
     ]
    }
   ],
   "source": [
    "email = '''mayank.ghai@learnbay.co\n",
    "mayankghai@gmail.com\n",
    "mayankghai@yahoo.com\n",
    "mayank_atul_ghai#gmail.com\n",
    "123@gmail.com\n",
    "xyz.com\n",
    "!^$%$&&*(^*(&*))\n",
    "info@gov.in\n",
    "mail@info.com\n",
    "shweta_analyst@hotmail.com\n",
    "rajeh_mba.123@yahoo.com'''\n",
    "\n",
    "pat = r'([a-z]+[_.a-z0-9]*@.+)'\n",
    "\n",
    "x = re.finditer(pat, email)\n",
    "\n",
    "for i in x:\n",
    "    print(i)"
   ]
  },
  {
   "cell_type": "code",
   "execution_count": null,
   "id": "2ccb4d04",
   "metadata": {},
   "outputs": [],
   "source": [
    "mayank.ghai@learnbay.co\n",
    "mayankghai@gmail.com\n",
    "mayankghai@yahoo.com\n",
    "info@gov.in\n",
    "mail@info.com\n",
    "shweta_analyst@hotmail.com\n",
    "rajeh_mba.123@yahoo.com"
   ]
  }
 ],
 "metadata": {
  "kernelspec": {
   "display_name": "Python 3 (ipykernel)",
   "language": "python",
   "name": "python3"
  },
  "language_info": {
   "codemirror_mode": {
    "name": "ipython",
    "version": 3
   },
   "file_extension": ".py",
   "mimetype": "text/x-python",
   "name": "python",
   "nbconvert_exporter": "python",
   "pygments_lexer": "ipython3",
   "version": "3.11.5"
  }
 },
 "nbformat": 4,
 "nbformat_minor": 5
}
